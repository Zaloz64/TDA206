{
 "cells": [
  {
   "cell_type": "markdown",
   "metadata": {},
   "source": [
    "\n",
    "$\\qquad$ $\\qquad$$\\qquad$  **TDA231/DIT370 Discrete Optimization: Home Assignment 3 -- LP Duality and the Primal-Dual Algorithm** <br />\n",
    "$\\qquad$ $\\qquad$$\\qquad$                   **During grading time, direct queries regarding Q-1,2 to David & Q-3 to Marc** <br />\n",
    "$\\qquad$ $\\qquad$$\\qquad$                     **Due Date: 03/03/2025** <br />\n",
    "$\\qquad$ $\\qquad$$\\qquad$                   **Submitted by: Name, Personal No., Email** <br />\n",
    "\n",
    "\n",
    "\n",
    "---\n",
    "\n",
    "\n",
    "General guidelines:\n",
    "*   All solutions to theoretical and pratical problems must be submitted in this ipynb notebook and equations, wherever required, should be formatted using LaTeX math-mode.\n",
    "*   All discussion regarding practical problems, along with solutions and plots should be specified in this notebook. All plots/results should be visible such that the notebook does not have to be run. But the code in the notebook should reproduce the plots/results if we choose to do so.\n",
    "*   Your name, personal number and email address should be specified above.\n",
    "*   All tables and other additional information should be included in this notebook.\n",
    "*   Before submitting, make sure that your code can run on another computer. That all plots can show on another computer including all your writing. It is good to check if your code can run here: https://colab.research.google.com.\n"
   ]
  },
  {
   "cell_type": "markdown",
   "metadata": {},
   "source": [
    "# Problem 1.\n",
    "\n",
    "Consider the following LP problem:\n",
    "\n",
    "\\begin{alignat*}{2}\n",
    "\\max \\ &4x_1-2x_2+5x_3+6x_4+7x_5\\\\\n",
    "\\\\\n",
    "\\textrm{s.t} \\quad\n",
    "&2x_1 + 2x_2 - 4x_3 + 4x_4 + 8x_5 &&\\leq 6\\\\\n",
    "&2x_1 + \\ \\ {}x_2 - 2x_3 - \\ \\ x_4 - 3x_5 &&\\geq -1\\\\\n",
    "&5x_1 - 2x_2 + 4x_3 + 4x_4 + 2x_5 &&= 5\\\\\n",
    "&2x_1 - 2x_2 + 5x_3 + 3x_4 + \\ \\ x_5 &&\\leq 4\\\\\n",
    "&\\hspace{5.3cm} \\vec x &&\\geq \\vec 0\n",
    "\\end{alignat*}\n",
    "\n",
    "* (4 points) Write the LP dual of this problem.\n",
    "* (3 points) Use CVXPY to compute the primal and dual optimum solutions and compare their values.\n",
    "* (3 points) Check the complementary slackness conditions."
   ]
  },
  {
   "cell_type": "markdown",
   "metadata": {},
   "source": [
    "We use the Dualization recipe from the book to produce the dual:\n",
    "\\begin{alignat*}{2}\n",
    "\\min \\ &6y_1 - \\ \\ {}y_2 + 5y_3 + 4y_4\\\\\n",
    "\\\\\n",
    "\\textrm{s.t} \\quad\n",
    "&2y_1 + 2y_2 + 5y_3 + 2y_4 && \\geq 4\\\\\n",
    "&2y_1 + \\ \\ {}y_2 - 2y_3 - 2y_4 && \\geq -2\\\\\n",
    "&-4y_1 - 2y_2 + 4y_3 + 5y_4 && \\geq 5\\\\\n",
    "&4y_1 - \\ \\ {}y_2 + 4y_3 + 3y_4 && \\geq 6\\\\\n",
    "&8y_1 - 3y_2 + 2y_3 + \\ \\ {}y_4 && \\geq 7\\\\\n",
    "&y_1 && \\geq 0\\\\\n",
    "&y_2 && \\leq 0\\\\\n",
    "&y_3 && \\in \\mathbb{R}\\\\\n",
    "&y_4 && \\geq 0\\\\\n",
    "\\end{alignat*}\n"
   ]
  },
  {
   "cell_type": "code",
   "execution_count": null,
   "metadata": {
    "collapsed": true,
    "jupyter": {
     "outputs_hidden": true
    }
   },
   "outputs": [
    {
     "name": "stdout",
     "output_type": "stream",
     "text": [
      "Solution for primal: 9.220338951278364, Status: optimal\n",
      "Solution for dual: 9.220338968917472, Status: optimal\n"
     ]
    }
   ],
   "source": [
    "import cvxpy as cp\n",
    "import numpy as np\n",
    "\n",
    "x = cp.Variable((5, 1), nonneg=True)\n",
    "c_primal = np.array([4, -2, 5, 6, 7])\n",
    "const_primal = [\n",
    "    2*x[0] + 2*x[1] - 4*x[2] + 4*x[3] + 8*x[4] <= 6,\n",
    "    2*x[0] + x[1] - 2*x[2] - x[3] - 3*x[4] >= -1,\n",
    "    5*x[0] - 2*x[1] + 4*x[2] + 4*x[3] + 2*x[4] == 5,\n",
    "    2*x[0] - 2*x[1] + 5*x[2] + 3*x[3] + x[4] <= 4,\n",
    "]\n",
    "\n",
    "objective_primal = cp.Maximize(c_primal @ x)\n",
    "\n",
    "problem_primal = cp.Problem(objective_primal, const_primal)\n",
    "solution_primal = problem_primal.solve()\n",
    "\n",
    "\n",
    "y = cp.Variable((4, 1))\n",
    "c_dual = np.array([6, -1, 5, 4])\n",
    "\n",
    "const_dual = [\n",
    "    2*y[0] + 2*y[1] + 5*y[2] + 2*y[3] >= 4,\n",
    "    2*y[0] + y[1] - 2*y[2] - 2*y[3] >= -2,\n",
    "    (-4)*y[0] - 2*y[1] + 4*y[2] + 5*y[3] >= 5,\n",
    "    4*y[0] - y[1] + 4*y[2] + 3*y[3] >= 6,\n",
    "    8*y[0] - 3*y[1] + 2*y[2] + y[3] >= 7,\n",
    "    y[0]>=0, y[1] <= 0, y[3] >= 0\n",
    "]\n",
    "\n",
    "objective_dual = cp.Minimize(c_dual @ y)\n",
    "\n",
    "problem_dual = cp.Problem(objective_dual, const_dual)\n",
    "solution_dual = problem_dual.solve()\n",
    "\n",
    "\n",
    "print(f\"Solution for primal: {solution_primal}, Status: {problem_primal.status}\")\n",
    "print(f\"Solution for dual: {solution_dual}, Status: {problem_dual.status}\")        \n"
   ]
  },
  {
   "cell_type": "markdown",
   "metadata": {},
   "source": [
    "The two solutions are more or less the same, with the difference likely being the result of the CVXPY library itself since by the Strong Duality Theorem they should have the exact same optimal solution. The code below will check the complementary slackness conditions for both LP's and print out the results of the contraints. They are not exact, which again is likely due to bugs or inconsistensies with the library, but close enough that we say that the conditions hold."
   ]
  },
  {
   "cell_type": "code",
   "execution_count": 4,
   "metadata": {},
   "outputs": [
    {
     "name": "stdout",
     "output_type": "stream",
     "text": [
      "4.00000000445052 should be equal to 4\n",
      "-1.9999999972511593 should be equal to -2\n",
      "4.999999988019863 should be equal to 5\n",
      "6.830508465549676 should be equal to 6\n",
      "6.99999999064991 should be equal to 7\n",
      "6.000000004771811 should be equal to 6\n",
      "-0.999999920172545 should be equal to -1\n",
      "4.9999999999999485 should be equal to 5\n",
      "3.999999996461829 should be equal to 4\n"
     ]
    }
   ],
   "source": [
    "const = np.array([[2,2,-4, 4,8], [2,1,-2,-1,-3], [5,-2,4,4,2], [2,-2,5,3,1]]) # Constraints as matrix to make following implementation easier\n",
    "const_dual_M = const.transpose()\n",
    "\n",
    "# Check Complementary Slackness for Primal\n",
    "for i in range(len(x.value)):\n",
    "    if x.value[i] == 0:\n",
    "        continue\n",
    "    else:\n",
    "        print(f\"{const_dual_M[i].dot(y.value)[0]} should be equal to {c_primal[i]}\")\n",
    "\n",
    "# Check Complementary Slackness for Dual\n",
    "for i in range(len(y.value)):\n",
    "    if y.value[i] == 0:\n",
    "        continue\n",
    "    else:\n",
    "        print(f\"{const[i].dot(x.value)[0]} should be equal to {c_dual[i]}\")\n"
   ]
  },
  {
   "cell_type": "markdown",
   "metadata": {},
   "source": [
    "# Problem 2.\n",
    "\n",
    "Consdier the LP problem:\n",
    "\\begin{alignat*}{2}\n",
    "\\max \\ &6x_1 - 5x_3\\\\\n",
    "\\\\\n",
    "\\textrm{s.t} \\quad\n",
    "&6x_1 - 3x_2 + x_3 &&= 2\\\\\n",
    "&3x_1 + 4x_2 + x_3 &&\\leq 5\\\\\n",
    "&\\ \\ x_1 - 7x_2 &&\\leq 5\\\\\n",
    "&\\hspace{2.45cm} x_1 &&\\geq 0\\\\\n",
    "&\\hspace{2.45cm} x_2 &&\\leq 0\\\\\n",
    "&\\hspace{2.45cm} x_3 &&\\text{ unrestricted}\n",
    "\\end{alignat*}\n",
    "\n",
    "* (3 points) Write the LP dual of this problem.\n",
    "* (4 points) Consider the feasible solution $\\vec x = (0,0,2)$ to the primal. Check if this solution is optimal by using the complementary slackness conditions to write down the corresponding dual solution.\n",
    "* (3 points) Use complementary slackness to check if the primal feasible solution $\\vec x = (1,0,-4)$ is optimal."
   ]
  },
  {
   "cell_type": "markdown",
   "metadata": {},
   "source": [
    "\\begin{alignat*}{2}\n",
    "\\min \\ &2y_1 + 5y_2 + 5y_3\\\\\n",
    "\\textrm{s.t} \\quad\n",
    "&6y_1 + 3y_2 + \\ \\ y_3 && \\geq 6\\\\\n",
    "&-3y_1 + 4y_2 - 7y_3 &&\\leq 0\\\\\n",
    "&\\ \\ y_1 + \\ \\ y_2 &&= -5\\\\\n",
    "&\\hspace{2.45cm} y_1 &&\\in \\mathbb{R}\\\\\n",
    "&\\hspace{2.45cm} y_2, y_3 &&\\geq 0\\\\\n",
    "\\end{alignat*}\n",
    "\n",
    "The solution $x^* = (0,0,2)$ being optimal for the primal means that there must exist solution $y^* = (y_1,y_2,y_3)$ such that complementary slackness holds. Since the first two variables $x_1 = 0$ and $x_2 = 0$ we only need to check that constraint $y_1 + y_2=-5$ holds. We also have that constraints 2 and 3 in the Primal are satisfied by equality so we have the additional formulas $y_2 = 0, y_3 = 0$. Thus we have the solution $y^* = (-5, 0, 0)$. This solution is not feasible since it violates constraint 1 in the dual LP: $6*-5 \\not \\geq 6$ thus this $x^*$ is not optimal.\n",
    "\n",
    "\n",
    "To check if the solution $x^* = (1,0,-4)$ is optimal we must find solution $y^* = (y_1,y_2,y_3)$ such that CS holds. Using similar reasonig as above we get the following equation system:\n"
   ]
  },
  {
   "cell_type": "markdown",
   "metadata": {},
   "source": [
    "$\\left\\{ \\begin{array}{rcl}\n",
    "  6y_1 + 3y_2 + y_3 = 6 \\\\ \n",
    "  y_1 + y_2 =5 \\\\\n",
    "  y_2 = y_3 = 0\n",
    " \\end{array}\\right.$\n",
    " \n",
    " which is simplified to:\n",
    " $\\left\\{ \\begin{array}{rcl}\n",
    "  y_1= 1 \\\\ \n",
    "  y_1 =5 \\\\\n",
    " \\end{array}\\right.$\n",
    "Which is not solvable, thus no such $y^*$ exists and so this $x^*$ is not optimal"
   ]
  },
  {
   "cell_type": "markdown",
   "metadata": {},
   "source": [
    "# Problem 3.\n",
    "\n",
    "Consider the primal-dual algorithm for vertex cover discussed in class.\n",
    "* (4 points) Run the algorithm by hand on the graph in the figure below (from your previous homework). Show the values of the primal and dual variables at each iteration.\n",
    "* (6 points) Implement the primal-dual algorithm as a python script to compute (approximate) vertex covers and run it for the random graph $G(100,0.1)$ from the previous homework.\n",
    "\n",
    "<img src=\"https://tinyurl.com/tsnuz2c\" alt=\"Drawing\" style=\"width: 180px;\"/>\n",
    "\n",
    "If the image does not load, try the direct link: https://tinyurl.com/tsnuz2c"
   ]
  },
  {
   "cell_type": "markdown",
   "metadata": {},
   "source": [
    "So the primal is defined as \n",
    "\n",
    "\\begin{alignat*}{2}\n",
    "\\min \\ &x_1 + 3x_2 + 4x_3 + 2x_4 + 2x_5 + 4x_6\\\\\n",
    "\\\\\n",
    "\\textrm{s.t} \\quad\n",
    "&x_1 + x_2 &&\\leq 1\\\\\n",
    "&x_2 + x_3 &&\\leq 1\\\\\n",
    "&x_2 + x_5 &&\\leq 1\\\\\n",
    "&x_3 + x_5 &&\\leq 1 \\\\\n",
    "&x_3 + x_4 &&\\leq 1 \\\\\n",
    "&x_4 + x_5 &&\\leq 1 \\\\\n",
    "&x_5 + x_6 &&\\leq 1 \\\\\n",
    "&\\hspace{2.45cm} x_1, x_2, x_3, x_4, x_5, x_6 &&\\geq 0\\\\\n",
    "\\end{alignat*}\n",
    "\n",
    "The Dual is defined as:\n",
    "\n",
    "\\begin{alignat*}{2}\n",
    "\\max \\ & \\sum_{i=1}^7 y_i \\\\\n",
    "\\\\\n",
    "\\textrm{s.t} \\quad\n",
    "&y_1 &&\\geq 1\\\\\n",
    "&y_1 + y_2 + y_3 &&\\geq 3\\\\\n",
    "&y_2 + y_4 + y_5 &&\\leq 4\\\\\n",
    "&y_5 + y_6 &&\\leq 2 \\\\\n",
    "&y_3 + y_4 + y_6 + y_7 &&\\leq 2 \\\\\n",
    "&y_7 &&\\leq 4 \\\\\n",
    "&\\hspace{2.45cm} y_i &&\\geq 0\\\\\n",
    "\\end{alignat*}\n",
    "\n",
    "We set the primal and dual variables to zero, x = (0,0,0,0,0,0), and y = (0,0,0,0,0,0,0):\n",
    "\n",
    "We increase all dual variables $y_e$ untill a vertex wieght constriant becomes taight. This happends when $y_e = 1/2$ for  $y_3 + y_4 + y_6 + y_7 \\leq 2$, which results in x = (0,0,0,0,1,0), y = (1/2, 1/2, 1/2, 1/2, 1/2, 1/2, 1/2) and freazing $y_3, y_4, y_6, y_7$\n",
    "\n",
    "The next step is to increase the remaining edges untill they become taight again, tbis happends at $y_e = 1$ with the constarint $y_1 \\leq 1$, resulting in x = (1,0,0,0,1,0) and y = (1, 1, 1/2, 1/2, 1, 1/2, 1/2), frezing $y_1$.\n",
    "\n",
    "Tha next taightened constraint is when $y_e = 3/2$, with both $y_5 + y_6 \\leq 2$ and $y_2 + y_4 + y_5 \\leq 4$, resulting in x = (1,0,1,1,1,0) and y = (1, 3/2, 1/2, 1/2, 3/2, 1/2, 1/2). We pick poth since they both froze at the same time.\n",
    "\n",
    "Since the dual constraint is taight the final awnser is: x = (1,0,1,1,1,0)\n"
   ]
  }
 ],
 "metadata": {
  "kernelspec": {
   "display_name": "Python 3",
   "language": "python",
   "name": "python3"
  },
  "language_info": {
   "codemirror_mode": {
    "name": "ipython",
    "version": 3
   },
   "file_extension": ".py",
   "mimetype": "text/x-python",
   "name": "python",
   "nbconvert_exporter": "python",
   "pygments_lexer": "ipython3",
   "version": "3.10.0"
  }
 },
 "nbformat": 4,
 "nbformat_minor": 4
}
