{
 "cells": [
  {
   "cell_type": "markdown",
   "metadata": {},
   "source": [
    "\n",
    "$\\qquad$ $\\qquad$$\\qquad$  **TDA231/DIT370 Discrete Optimization: Home Assignment 3 -- LP Duality and the Primal-Dual Algorithm** <br />\n",
    "$\\qquad$ $\\qquad$$\\qquad$                   **During grading time, direct queries regarding Q-1,2 to David & Q-3 to Marc** <br />\n",
    "$\\qquad$ $\\qquad$$\\qquad$                     **Due Date: 03/03/2025** <br />\n",
    "$\\qquad$ $\\qquad$$\\qquad$                   **Submitted by: Name, Personal No., Email** <br />\n",
    "\n",
    "\n",
    "\n",
    "---\n",
    "\n",
    "\n",
    "General guidelines:\n",
    "*   All solutions to theoretical and pratical problems must be submitted in this ipynb notebook and equations, wherever required, should be formatted using LaTeX math-mode.\n",
    "*   All discussion regarding practical problems, along with solutions and plots should be specified in this notebook. All plots/results should be visible such that the notebook does not have to be run. But the code in the notebook should reproduce the plots/results if we choose to do so.\n",
    "*   Your name, personal number and email address should be specified above.\n",
    "*   All tables and other additional information should be included in this notebook.\n",
    "*   Before submitting, make sure that your code can run on another computer. That all plots can show on another computer including all your writing. It is good to check if your code can run here: https://colab.research.google.com.\n"
   ]
  },
  {
   "cell_type": "markdown",
   "metadata": {},
   "source": [
    "# Problem 1.\n",
    "\n",
    "Consider the following LP problem:\n",
    "\n",
    "\\begin{alignat*}{2}\n",
    "\\max \\ &4x_1-2x_2+5x_3+6x_4+7x_5\\\\\n",
    "\\\\\n",
    "\\textrm{s.t} \\quad\n",
    "&2x_1 + 2x_2 - 4x_3 + 4x_4 + 8x_5 &&\\leq 6\\\\\n",
    "&2x_1 + \\ \\ {}x_2 - 2x_3 - \\ \\ x_4 - 3x_5 &&\\geq -1\\\\\n",
    "&5x_1 - 2x_2 + 4x_3 + 4x_4 + 2x_5 &&= 5\\\\\n",
    "&2x_1 - 2x_2 + 5x_3 + 3x_4 + \\ \\ x_5 &&\\leq 4\\\\\n",
    "&\\hspace{5.3cm} \\vec x &&\\geq \\vec 0\n",
    "\\end{alignat*}\n",
    "\n",
    "* (4 points) Write the LP dual of this problem.\n",
    "* (3 points) Use CVXPY to compute the primal and dual optimum solutions and compare their values.\n",
    "* (3 points) Check the complementary slackness conditions."
   ]
  },
  {
   "cell_type": "code",
   "execution_count": 53,
   "metadata": {
    "collapsed": true,
    "jupyter": {
     "outputs_hidden": true
    }
   },
   "outputs": [
    {
     "name": "stdout",
     "output_type": "stream",
     "text": [
      "9.220338951278354\n",
      "x = [6.27118657e-01 2.81355940e+00 1.54237291e+00 1.17439690e-09\n",
      " 6.61016939e-01]\n"
     ]
    }
   ],
   "source": [
    "import cvxpy as cp\n",
    "import numpy as np\n",
    "\n",
    "X = cp.Variable(5)\n",
    "x1, x2, x3, x4, x5 = X\n",
    "\n",
    "obj = cp.Maximize(4*x1 - 2*x2 + 5*x3 + 6*x4 + 7*x5)\n",
    "const = [2*x1 + 2*x2 - 4*x3 + 4*x4 + 8*x5 <= 6]\n",
    "const += [2*x1 + x2 - 2*x3 - x4 - 3*x5 >= -1]\n",
    "const += [5*x1 - 2*x2 + 4*x3 + 4*x4 + 2*x5 == 5]\n",
    "const += [2*x1 - 2*x2 + 5*x3 + 3*x4 + x5 <= 4]\n",
    "const += [x1 >= 0, x2 >= 0, x3 >= 0, x4 >= 0, x5 >= 0]\n",
    "\n",
    "problem = cp.Problem(obj, const)\n",
    "result = problem.solve()\n",
    "print(result)\n",
    "print(\"x =\", X.value)\n",
    "\n",
    "\n"
   ]
  },
  {
   "cell_type": "code",
   "execution_count": 54,
   "metadata": {},
   "outputs": [
    {
     "name": "stdout",
     "output_type": "stream",
     "text": [
      "9.220338968917472\n",
      "x = [ 0.52542373 -0.37288136  0.33898305  0.99999999]\n"
     ]
    }
   ],
   "source": [
    "import cvxpy as cp\n",
    "import numpy as np\n",
    "\n",
    "Y = cp.Variable(4)\n",
    "y1, y2, y3, y4 = Y\n",
    "\n",
    "\n",
    "obj = cp.Minimize(6*y1 - 1*y2 + 5*y3 + 4*y4)\n",
    "const = [2*y1 + 2*y2 + 5*y3 + 2*y4 >= 4]\n",
    "const += [2*y1 + y2 - 2*y3 - 2*y4 >= -2]\n",
    "const += [-4*y1 - 2*y2 +4*y3 + 5*y4 >= 5]\n",
    "const += [4*y1 - y2 + 4*y3 + 3*y4 >= 6]\n",
    "const += [8*y1 - 3*y2 + 2*y3 + y4 >= 7]\n",
    "const += [y1 >= 0, y2 <= 0, y4 >= 0]\n",
    "\n",
    "problem = cp.Problem(obj, const)\n",
    "result = problem.solve()\n",
    "print(result)\n",
    "print(\"x =\", Y.value)\n"
   ]
  },
  {
   "cell_type": "code",
   "execution_count": 55,
   "metadata": {},
   "outputs": [
    {
     "name": "stdout",
     "output_type": "stream",
     "text": [
      "9.220338976950986\n",
      "x = [ 6.27118647e-01  2.81355934e+00  1.54237289e+00 -2.04445573e-10\n",
      "  6.61016947e-01]\n",
      "S = [ 6.27118647e-01  2.81355934e+00  1.54237289e+00 -2.04445573e-10\n",
      "  6.61016947e-01]\n"
     ]
    }
   ],
   "source": [
    "import cvxpy as cp\n",
    "import numpy as np\n",
    "\n",
    "X = cp.Variable(5)\n",
    "S = cp.Variable(4)\n",
    "x1, x2, x3, x4, x5 = X\n",
    "s1,s2,s3,s4 = S\n",
    "\n",
    "obj = cp.Maximize(4*x1 - 2*x2 + 5*x3 + 6*x4 + 7*x5)\n",
    "const = [2*x1 + 2*x2 - 4*x3 + 4*x4 + 8*x5 + s1== 6]\n",
    "const += [2*x1 + x2 - 2*x3 - x4 - 3*x5 - s2 == -1]\n",
    "const += [5*x1 - 2*x2 + 4*x3 + 4*x4 + 2*x5 == 5]\n",
    "const += [2*x1 - 2*x2 + 5*x3 + 3*x4 + x5 + s4 == 4]\n",
    "const += [x1 >= 0, x2 >= 0, x3 >= 0, x4 >= 0, x5 >= 0, s1 >= 0,  s2 >= 0,  s3 >= 0,  s4 >= 0]\n",
    "\n",
    "problem = cp.Problem(obj, const)\n",
    "result = problem.solve()\n",
    "print(result)\n",
    "print(\"x =\", X.value)\n",
    "print(\"S =\", X.value)"
   ]
  },
  {
   "cell_type": "markdown",
   "metadata": {},
   "source": [
    "# Problem 2.\n",
    "\n",
    "Consdier the LP problem:\n",
    "\\begin{alignat*}{2}\n",
    "\\max \\ &6x_1 - 5x_3\\\\\n",
    "\\\\\n",
    "\\textrm{s.t} \\quad\n",
    "&6x_1 - 3x_2 + x_3 &&= 2\\\\\n",
    "&3x_1 + 4x_2 + x_3 &&\\leq 5\\\\\n",
    "&\\ \\ x_1 - 7x_2 &&\\leq 5\\\\\n",
    "&\\hspace{2.45cm} x_1 &&\\geq 0\\\\\n",
    "&\\hspace{2.45cm} x_2 &&\\leq 0\\\\\n",
    "&\\hspace{2.45cm} x_3 &&\\text{ unrestricted}\n",
    "\\end{alignat*}\n",
    "\n",
    "* (3 points) Write the LP dual of this problem.\n",
    "* (4 points) Consider the feasible solution $\\vec x = (0,0,2)$ to the primal. Check if this solution is optimal by using the complementary slackness conditions to write down the corresponding dual solution.\n",
    "* (3 points) Use complementary slackness to check if the primal feasible solution $\\vec x = (1,0,-4)$ is optimal."
   ]
  },
  {
   "cell_type": "markdown",
   "metadata": {},
   "source": [
    "The LP dual: \n",
    "\n",
    "\\begin{alignat*}{2}\n",
    "\\min \\ &2y_1 + 5y_2 + 5y_3\\\\\n",
    "\\\\\n",
    "\\textrm{s.t} \\quad\n",
    "&6y_1 + 3y_2 + y_3 &&\\geq 6\\\\\n",
    "&-3y_1 + 4y_2 - 7y_3 &&\\geq 0\\\\\n",
    "&\\ \\ y_1 + y_2 &&= -5\\\\\n",
    "&\\hspace{2.45cm} y_1 &&\\text{ unrestricted} \\\\\n",
    "&\\hspace{2.45cm} y_2 &&\\geq 0\\\\\n",
    "&\\hspace{2.45cm} y_3 &&\\geq 0\n",
    "\\end{alignat*}"
   ]
  },
  {
   "cell_type": "markdown",
   "metadata": {},
   "source": [
    "We will assume that $\\vec x = (0,0,2)$ is an optimal solution to the primal, this shows us that $y_1 + y_2 = -5$ must be satisfied for our dual. \n",
    "\n",
    "Checking which constraints are tight:\n",
    "\n",
    "constraint 1: $6 * (0) + 3 * (0) + 2 = 2$  so $y_1 \\neq 0$ \n",
    "\n",
    "constraint 2: $-3 * (0) + 4 * (0) - 7 * 2 = -14 \\neq 5 $  so $y_2 = 0$ \n",
    "\n",
    "constraint 3: $(0) + (0) = 0 \\neq 5 $  so $y_3 = 0$ \n",
    "\n",
    "Solving for $y_1$ since we now know $y_2 = 0$, giving us: \n",
    "\n",
    "$y_1 + y_2 = -5 \\rightarrow y_1 = -5$\n",
    "\n",
    "Checking the dual constraints:\n",
    "\n",
    "$6 * (-5) + 3 * (0) + 0 = -30\n",
    "\n",
    "This results in a contradiction showing that $\\vec x = (0,0,2)$ is not an optimal solution to this problem. \n"
   ]
  },
  {
   "cell_type": "markdown",
   "metadata": {},
   "source": [
    "We will assume that $\\vec x = (1,0,-4)$ is an optimal solution to the primal, this shows us that $y_1 + y_2 = -5$ must be satisfied for our dual. \n",
    "\n",
    "Checking which constraints are tight:\n",
    "\n",
    "constraint 1: $6 * (1) + 3 * (0) - 4 = 2$  so $y_1 \\neq 0$ \n",
    "\n",
    "constraint 2: $-3 * (1) + 4 * (0) - 7 * (-4) = 25 \\neq 5 $  so $y_2 = 0$ \n",
    "\n",
    "constraint 3: $(1) + (0) = 1 \\neq 5 $  so $y_3 = 0$ "
   ]
  },
  {
   "cell_type": "markdown",
   "metadata": {},
   "source": [
    "# Problem 3.\n",
    "\n",
    "Consider the primal-dual algorithm for vertex cover discussed in class.\n",
    "* (4 points) Run the algorithm by hand on the graph in the figure below (from your previous homework). Show the values of the primal and dual variables at each iteration.\n",
    "* (6 points) Implement the primal-dual algorithm as a python script to compute (approximate) vertex covers and run it for the random graph $G(100,0.1)$ from the previous homework.\n",
    "\n",
    "<img src=\"https://tinyurl.com/tsnuz2c\" alt=\"Drawing\" style=\"width: 180px;\"/>\n",
    "\n",
    "If the image does not load, try the direct link: https://tinyurl.com/tsnuz2c"
   ]
  },
  {
   "cell_type": "markdown",
   "metadata": {},
   "source": [
    "So the primal is defined as \n",
    "\n",
    "\\begin{alignat*}{2}\n",
    "\\min \\ &x_1 + 3x_2 + 4x_3 + 2x_4 + 2x_5 + 4x_6\\\\\n",
    "\\\\\n",
    "\\textrm{s.t} \\quad\n",
    "&x_1 + x_2 &&\\leq 1\\\\\n",
    "&x_2 + x_3 &&\\leq 1\\\\\n",
    "&x_2 + x_5 &&\\leq 1\\\\\n",
    "&x_3 + x_5 &&\\leq 1 \\\\\n",
    "&x_3 + x_4 &&\\leq 1 \\\\\n",
    "&x_4 + x_5 &&\\leq 1 \\\\\n",
    "&x_5 + x_6 &&\\leq 1 \\\\\n",
    "&\\hspace{2.45cm} x_1, x_2, x_3, x_4, x_5, x_6 &&\\geq 0\\\\\n",
    "\\end{alignat*}\n",
    "\n",
    "The Dual is defined as:\n",
    "\n",
    "\\begin{alignat*}{2}\n",
    "\\max \\ & \\sum_{i=1}^7 y_i \\\\\n",
    "\\\\\n",
    "\\textrm{s.t} \\quad\n",
    "&y_1 &&\\leq 1\\\\\n",
    "&y_1 + y_2 + y_3 &&\\leq 3\\\\\n",
    "&y_2 + y_4 + y_5 &&\\leq 4\\\\\n",
    "&y_5 + y_6 &&\\leq 2 \\\\\n",
    "&y_3 + y_4 + y_6 + y_7 &&\\leq 2 \\\\\n",
    "&y_7 &&\\leq 4 \\\\\n",
    "&\\hspace{2.45cm} y_i &&\\geq 0\\\\\n",
    "\\end{alignat*}\n",
    "\n",
    "So we set the primal and dual variables to zero, like so x = (0,0,0,0,0,0), and y = (0,0,0,0,0,0,0):\n",
    "\n",
    "We increase all dual variables $y_e$ untill a vertex wieght constriant becomes taight. This happends when $y_e = 1/2$ for  $y_3 + y_4 + y_6 + y_7 \\leq 2$, which results in x = (0,0,0,0,1,0), y = (1/2, 1/2, 1/2, 1/2, 1/2, 1/2, 1/2)\n",
    "\n",
    "Next step is to freze y_3, y_4, y_6, y_7 and increase the other edges untill wieghed constriants becomes taight again at $y_e = 1$ with the constarint $y_1 \\leq 1$, resulting in x = (1,0,0,0,1,0) and y = (1, 1, 1/2, 1/2, 1, 1/2, 1/2) and frezing $y_1$.\n",
    "\n",
    "Tha next taightened comstrain is when $y_e = 3/2$, with both $y_5 + y_6 \\leq 2$ and $y_2 + y_4 + y_5 \\leq 4$, resulting in x = (1,0,1,1,1,0) and y = (1, 3/2, 1/2, 1/2, 3/2, 1/2, 1/2). We pick poth since they both froze at the same time.\n",
    "\n",
    "Since the dual constraint is taight the final awnser is: x = (1,0,1,1,1,0)\n",
    "\n",
    "\n",
    "\n"
   ]
  },
  {
   "cell_type": "code",
   "execution_count": null,
   "metadata": {},
   "outputs": [
    {
     "name": "stdout",
     "output_type": "stream",
     "text": [
      "[[[90, 1], 1, 3, 5, 17, 28, 37, 40, 41, 43, 44, 47, 48, 50, 62, 80, 81, 91, 98], [[0, 1], 4, 21, 27, 28, 39, 43, 51, 53, 56, 61, 64, 71, 76, 78, 83, 86], [[12, 1], 8, 11, 19, 21, 24, 26, 35, 42, 49, 62, 65, 68, 74, 76, 97, 99], [[30, 1], 4, 11, 13, 17, 34, 36, 43, 46, 57, 59, 62, 70, 71, 97, 98], [[41, 1], 8, 15, 33, 40, 46, 54, 58, 59, 64, 66, 76, 84, 85, 90, 95], [[68, 1], 6, 12, 26, 34, 36, 43, 45, 53, 58, 64, 79, 81, 91, 96], [[81, 1], 4, 10, 11, 14, 21, 29, 36, 56, 61, 68, 76, 89, 90, 94], [[86, 1], 0, 2, 5, 35, 36, 40, 42, 46, 55, 77, 78, 82, 84, 97], [[91, 1], 4, 34, 36, 37, 39, 44, 55, 59, 68, 70, 87, 90, 93, 96], [[94, 1], 2, 19, 28, 31, 35, 36, 37, 46, 52, 75, 80, 81, 87, 97], [[97, 1], 1, 12, 15, 23, 25, 30, 37, 49, 67, 80, 86, 89, 94, 98], [[20, 1], 4, 17, 25, 27, 35, 49, 58, 62, 64, 67, 71, 96, 98], [[27, 1], 0, 6, 9, 20, 22, 23, 37, 51, 60, 67, 76, 84, 89], [[34, 1], 3, 10, 25, 26, 29, 30, 35, 37, 46, 61, 68, 77, 91], [[35, 1], 2, 6, 9, 12, 19, 20, 34, 51, 82, 86, 93, 94, 95], [[55, 1], 3, 10, 16, 25, 42, 43, 54, 57, 73, 83, 84, 86, 91], [[61, 1], 0, 2, 10, 22, 33, 34, 39, 44, 63, 73, 75, 81, 96], [[76, 1], 0, 12, 25, 27, 41, 47, 54, 59, 63, 65, 78, 81, 84], [[98, 1], 1, 19, 20, 22, 30, 54, 70, 75, 77, 79, 89, 90, 97], [[2, 1], 16, 21, 33, 35, 48, 60, 61, 69, 79, 86, 88, 94], [[4, 1], 0, 9, 13, 15, 20, 21, 30, 63, 75, 81, 91, 96], [[5, 1], 44, 45, 46, 48, 51, 60, 64, 66, 70, 77, 86, 90], [[6, 1], 19, 21, 25, 27, 29, 35, 45, 54, 56, 64, 68, 83], [[42, 1], 3, 7, 8, 12, 28, 49, 54, 55, 57, 75, 86, 95], [[44, 1], 1, 5, 8, 13, 18, 45, 50, 61, 64, 77, 90, 91], [[54, 1], 6, 17, 19, 41, 42, 55, 69, 76, 88, 95, 98, 99], [[60, 1], 1, 2, 5, 7, 27, 33, 38, 40, 49, 52, 80, 96], [[63, 1], 4, 33, 47, 50, 51, 53, 59, 61, 69, 76, 79, 92], [[75, 1], 4, 18, 24, 42, 47, 56, 59, 61, 72, 87, 94, 98], [[78, 1], 0, 14, 16, 40, 47, 51, 65, 76, 86, 87, 96, 99], [[79, 1], 2, 19, 32, 46, 57, 63, 68, 74, 85, 95, 98, 99], [[95, 1], 1, 25, 35, 38, 41, 42, 43, 54, 79, 84, 88, 99], [[8, 1], 7, 12, 22, 38, 39, 41, 42, 44, 56, 80, 93], [[19, 1], 6, 9, 12, 23, 35, 37, 54, 69, 79, 94, 98], [[33, 1], 2, 26, 38, 41, 60, 61, 63, 65, 66, 67, 73], [[37, 1], 9, 19, 27, 34, 52, 74, 80, 90, 91, 94, 97], [[43, 1], 0, 7, 16, 28, 30, 46, 48, 55, 68, 90, 95], [[56, 1], 0, 6, 8, 29, 49, 51, 53, 73, 75, 81, 89], [[70, 1], 5, 9, 14, 15, 28, 30, 45, 53, 85, 91, 98], [[7, 1], 8, 42, 43, 50, 52, 60, 64, 82, 85, 96], [[9, 1], 4, 19, 27, 35, 37, 58, 67, 70, 82, 92], [[16, 1], 2, 24, 25, 28, 43, 55, 64, 65, 66, 78], [[22, 1], 8, 14, 27, 29, 57, 61, 85, 88, 93, 98], [[28, 1], 0, 16, 17, 21, 42, 43, 70, 90, 93, 94], [[36, 1], 1, 30, 39, 65, 68, 81, 86, 91, 92, 94], [[39, 1], 0, 3, 8, 11, 13, 31, 36, 61, 80, 91], [[49, 1], 12, 20, 26, 31, 42, 46, 56, 58, 60, 97], [[53, 1], 0, 10, 40, 56, 58, 63, 68, 69, 70, 93], [[64, 1], 0, 5, 6, 7, 16, 20, 41, 44, 67, 68], [[96, 1], 3, 4, 7, 20, 32, 60, 61, 68, 78, 91], [[1, 1], 36, 44, 60, 84, 87, 90, 95, 97, 98], [[3, 1], 34, 39, 42, 55, 62, 80, 90, 92, 96], [[23, 1], 19, 24, 27, 48, 58, 59, 82, 93, 97], [[24, 1], 11, 12, 16, 23, 29, 40, 75, 87, 92], [[25, 1], 6, 16, 20, 34, 55, 76, 88, 95, 97], [[29, 1], 6, 10, 14, 22, 24, 34, 56, 57, 81], [[40, 1], 11, 24, 41, 53, 60, 78, 86, 90, 92], [[46, 1], 5, 30, 34, 41, 43, 49, 79, 86, 94], [[48, 1], 2, 5, 18, 23, 43, 51, 74, 90, 99], [[51, 1], 0, 5, 27, 35, 48, 56, 63, 78, 84], [[58, 1], 9, 20, 23, 41, 49, 53, 68, 85, 88], [[59, 1], 23, 30, 41, 63, 69, 75, 76, 82, 91], [[65, 1], 12, 16, 33, 36, 57, 62, 76, 78, 89], [[80, 1], 3, 8, 37, 39, 60, 71, 90, 94, 97], [[82, 1], 7, 9, 14, 15, 23, 32, 35, 59, 86], [[85, 1], 7, 22, 32, 41, 52, 58, 70, 79, 99], [[92, 1], 3, 9, 24, 32, 36, 40, 63, 74, 83], [[99, 1], 12, 48, 54, 72, 78, 79, 85, 87, 95], [[15, 1], 4, 41, 67, 70, 73, 77, 82, 97], [[17, 1], 20, 28, 30, 54, 67, 74, 88, 90], [[21, 1], 0, 2, 4, 6, 12, 28, 47, 81], [[26, 1], 12, 31, 33, 34, 47, 49, 68, 87], [[47, 1], 21, 26, 63, 72, 75, 76, 78, 90], [[62, 1], 3, 11, 12, 20, 30, 65, 89, 90], [[67, 1], 9, 15, 17, 20, 27, 33, 64, 97], [[74, 1], 12, 17, 37, 48, 79, 89, 92, 93], [[84, 1], 1, 27, 41, 51, 55, 76, 86, 95], [[87, 1], 1, 24, 26, 75, 78, 91, 94, 99], [[89, 1], 27, 56, 62, 65, 74, 81, 97, 98], [[93, 1], 8, 22, 23, 28, 35, 53, 74, 91], [[11, 1], 12, 24, 30, 39, 40, 62, 81], [[14, 1], 22, 29, 38, 70, 78, 81, 82], [[45, 1], 5, 6, 13, 44, 50, 68, 70], [[57, 1], 22, 29, 30, 42, 55, 65, 79], [[88, 1], 2, 17, 22, 25, 54, 58, 95], [[10, 1], 29, 34, 53, 55, 61, 81], [[13, 1], 4, 30, 39, 44, 45, 50], [[38, 1], 8, 14, 33, 60, 66, 95], [[50, 1], 7, 13, 44, 45, 63, 90], [[69, 1], 2, 19, 53, 54, 59, 63], [[73, 1], 15, 33, 55, 56, 61, 83], [[77, 1], 5, 15, 34, 44, 86, 98], [[32, 1], 79, 82, 85, 92, 96], [[52, 1], 7, 37, 60, 85, 94], [[66, 1], 5, 16, 33, 38, 41], [[83, 1], 0, 6, 55, 73, 92], [[31, 1], 26, 39, 49, 94], [[71, 1], 0, 20, 30, 80], [[18, 1], 44, 48, 75], [[72, 1], 47, 75, 99]]\n"
     ]
    }
   ],
   "source": [
    "A4 = np.loadtxt(\"graph.txt\", dtype=int)\n",
    "xValues = np.zeros(100)\n",
    "#kommer detta att behövas?\n",
    "# xValues =[]\n",
    "# for i in range(100):\n",
    "#     for j in range(i+1, 100):\n",
    "#         if A4[i, j] == 1:\n",
    "#             xValues.append([i, j]) \n",
    "\n",
    "\n",
    "yValues = []\n",
    "for i in range(100):\n",
    "    yValues.append([[i, 1]])\n",
    "    for j in range(100):\n",
    "        if A4[i, j] == 1:\n",
    "            yValues[i].append(j) \n",
    "    # yValues[i][0][1] = 1\n",
    "    # print(yValues[i][0][1])\n",
    "\n",
    "## Since all weights are 1 the first constraint to become taight is the node with most edges to it. \n",
    "# yValues.sort()\n",
    "a = sorted(yValues, key=len, reverse=True)\n",
    "\n",
    "\n",
    "\n",
    "\n",
    "\n",
    "\n"
   ]
  }
 ],
 "metadata": {
  "kernelspec": {
   "display_name": "Python 3",
   "language": "python",
   "name": "python3"
  },
  "language_info": {
   "codemirror_mode": {
    "name": "ipython",
    "version": 3
   },
   "file_extension": ".py",
   "mimetype": "text/x-python",
   "name": "python",
   "nbconvert_exporter": "python",
   "pygments_lexer": "ipython3",
   "version": "3.11.2"
  }
 },
 "nbformat": 4,
 "nbformat_minor": 4
}
