{
 "cells": [
  {
   "cell_type": "markdown",
   "metadata": {
    "id": "9BpU0PTotQH_"
   },
   "source": [
    "\n",
    "$\\qquad$ $\\qquad$$\\qquad$  **TDA206/DIT206 Discrete Optimization: Home Assignment 2 -- Integer LP and Relaxation** <br />\n",
    "$\\qquad$ $\\qquad$$\\qquad$                   **Grader: Marc Constantin** <br />\n",
    "$\\qquad$ $\\qquad$$\\qquad$                   **Due Date: 17th Feb** <br />\n",
    "$\\qquad$ $\\qquad$$\\qquad$                   Josef Jakobson, 0208282079, josefjak@chalmers.se <br />\n",
    "$\\qquad$ $\\qquad$$\\qquad$                   Zoe Opdendries, 0208100065, zoe@zaloz.se <br />\n",
    "\n",
    "---\n",
    "\n",
    "\n",
    "General guidelines:\n",
    "*   All solutions to theoretical and pratical problems must be submitted in this ipynb notebook, and equations wherever required, should be formatted using LaTeX math-mode.\n",
    "*   All discussion regarding practical problems, along with solutions and plots should be specified in this notebook. All plots/results should be visible such that the notebook do not have to be run. But the code in the notebook should reproduce the plots/results if we choose to do so.\n",
    "*   Your name, personal number and email address should be specified above.\n",
    "*   All tables and other additional information should be included in this notebook.\n",
    "*   Before submitting, make sure that your code can run on another computer. That all plots can show on another computer including all your writing. It is good to check if your code can run here: https://colab.research.google.com.\n"
   ]
  },
  {
   "cell_type": "markdown",
   "metadata": {
    "id": "b2Ga2PmEtQIA"
   },
   "source": [
    "# Question 1.\n",
    "(5 points) \n",
    "There are 4 space colonies, each of which  requires a certain number of plasma conduits. There are 3 starbases in the vicinity. Each of them has total number of conduits they can spare and supply to the colonies. For each pair of starbase and colony, there is an associated cost for sending a cargo ship  (each of which carries one plasma conduit), as shown in the table below:\n",
    "\n",
    "\n",
    "\\begin{array}{l|c|c|c|c|c} \n",
    "      & Triacus & New Berlin  & Strnad  & Vega  & supply\\\\ \\hline\n",
    " Farpoint &   6 &  9 & 10 & 8 & 35\\\\\n",
    " Yorktown &  9 & 5 & 16 & 14 & 40\\\\\n",
    " Earhart & 12 &  7 & 13 & 9 & 50\\\\ \\hline\n",
    "    demand & 20 &30&30&45& \\left(\\sum=125\\right) \\\\ \n",
    "\\end{array}\n",
    "\n",
    "Your goal is to supply the colonies the plasma conduits they need, at minimum cost.\n",
    "\n",
    "\n",
    "Formulate a LP to solve the problem, explain why the solution is integral with a proof."
   ]
  },
  {
   "cell_type": "markdown",
   "metadata": {},
   "source": [
    "Below is the matrix representing the graph above, with each row representing a node (alternating between colonies and starbases) and each column an edge between the two."
   ]
  },
  {
   "cell_type": "markdown",
   "metadata": {},
   "source": [
    "$\\mathcal{A} = \n",
    "\\left(\\begin{matrix}\n",
    "    1 & 1 & 1 & 0 & 0 & 0 & 0 & 0 & 0 & 0 & 0 & 0  \\\\ % Triacus\n",
    "    1 & 0 & 0 & 1 & 0 & 0 & 1 & 0 & 0 & 1 & 0 & 0  \\\\ % Farpoint\n",
    "    0 & 0 & 0 & 1 & 1 & 1 & 0 & 0 & 0 & 0 & 0 & 0  \\\\ % New B\n",
    "    0 & 1 & 0 & 0 & 1 & 0 & 0 & 1 & 0 & 0 & 1 & 0  \\\\ % Yorktown\n",
    "    0 & 0 & 0 & 0 & 0 & 0 & 1 & 1 & 1 & 0 & 0 & 0  \\\\ % Strnad\n",
    "    0 & 0 & 1 & 0 & 0 & 1 & 0 & 0 & 1 & 0 & 0 & 1  \\\\ % Earhart\n",
    "    0 & 0 & 0 & 0 & 0 & 0 & 0 & 0 & 0 & 1 & 1 & 1  \\\\ % Vega\n",
    "\\end{matrix}\\right)$\n",
    "\n",
    "$\\vec c = \\left(\\begin{matrix}\n",
    "    6 \\\\\n",
    "    9 \\\\ \n",
    "    12 \\\\\n",
    "    9\\\\ \n",
    "    5 \\\\\n",
    "    7\\\\\n",
    "    10 \\\\\n",
    "    16\\\\\n",
    "    13 \\\\ \n",
    "    8 \\\\\n",
    "    14 \\\\ \n",
    "    9  \\\\\n",
    "\\end{matrix}\\right)$\n",
    "\n",
    "$\\vec x = (x_{TF} \\ x_{TY} \\ x_{TE} \\ ... \\ x_{VE})$ which is the number of trips between each node.\n",
    "\n",
    "$\\vec b = \\left(\\begin{matrix}\n",
    "    -20 \\\\\n",
    "    35 \\\\ \n",
    "    -30 \\\\\n",
    "    40\\\\ \n",
    "    -30 \\\\\n",
    "    50\\\\\n",
    "    -45 \\\\\n",
    "\\end{matrix}\\right)$\n",
    "\n",
    "This matrix is used to flip certain variables such that the inequality in the constraints are computed correctly.\n",
    "\n",
    "$\\vec d = \\left(\\begin{matrix}\n",
    "    -1 & 0 & 0 & 0 & 0 & 0 & 0\\\\\n",
    "    0 & 1 & 0 & 0 & 0 & 0 & 0\\\\\n",
    "    0 & 0 & -1 & 0 & 0 & 0 & 0\\\\ \n",
    "    0 & 0 & 0 & 1 & 0 & 0 & 0\\\\ \n",
    "    0 & 0 & 0 & 0 & -1 & 0 & 0\\\\ \n",
    "    0 & 0 & 0 & 0 & 0 & 1 & 0\\\\ \n",
    "    0 & 0 & 0 & 0 & 0 & 0 & -1\\\\ \n",
    "\\end{matrix}\\right)$\n",
    "\n",
    "\n",
    "LP:\n",
    "\n",
    "$\\begin{array}\n",
    "\\mathcal{min}\\quad \\vec c \\times \\vec x\\\\\n",
    "\\textrm{s.t} \\\\\n",
    "\\mathcal{A} \\times (\\vec x \\times \\vec d) \\leq \\vec b \\\\\n",
    "\\vec x \\geq \\vec 0\n",
    "\\end{array}$"
   ]
  },
  {
   "cell_type": "markdown",
   "metadata": {},
   "source": [
    "We have that matrix $\\mathcal{A}$ is TUM if it fullfills the following conditions:\n",
    "\n",
    "* Entries $\\in \\{-1, 0, 1\\}$\n",
    "* At most two non-zero entries per column\n",
    "* Rows can be partitioned into two sets s.t. non-zero entries with same sign are in different sets. (Opposite signs are irrelevant in this case)\n",
    "\n",
    "We have the above since the graph that $\\mathcal{A}$ defines is bipartite, meaning we can order the rows (which are the nodes) such that one set contains one \"side\" of the bipartite graph and the other is in the other partition. In addition, $\\vec b$ is integral. \n",
    "\n",
    "Thus by the Hoffman-Kruskal theorem, the solution to the LP above is exactly the solution to the ILP of the same problem."
   ]
  },
  {
   "cell_type": "markdown",
   "metadata": {
    "id": "xFec7wzqtQIB"
   },
   "source": [
    "# Question 2.\n",
    "\n",
    "Recall the Minimum Weight Vertex Cover (VC) Problem: Given an undirected graph $G=(V, E)$, with node set $V$ and edge set $E$, where each node has a positive weight $w(v)$ associated with it (see the attached figure), the goal is to select a subset $V'\\subseteq V$ of nodes such that every edge has at least one node incident to it, and the total selected node weight $\\sum_{v\\in V'} w(v)$ is minimized. \n",
    "\n",
    "* (4 points) Formulate the ILP for the VC problem for the attached graph, and solve it using **CVXPY** integer solver, for instance, `myVar = cp.Variable(<dim>, integer=True)`.\n",
    "* (2 points) Pass to the LP relaxation and solve it using **CVXPY** and comment on the relation between the two solutions.\n",
    "* (2 points) Apply the rounding rule discussed in class to the optimal LP solution to obtain a solution to the ILP and compare it to the optimal ILP solution.\n",
    "\n",
    "<!-- ![title](vertex_cover_example.png) -->\n"
   ]
  },
  {
   "cell_type": "code",
   "execution_count": 8,
   "metadata": {},
   "outputs": [
    {
     "name": "stdout",
     "output_type": "stream",
     "text": [
      "7.0\n",
      "x = [[-0.]\n",
      " [ 1.]\n",
      " [-0.]\n",
      " [ 1.]\n",
      " [ 1.]\n",
      " [-0.]]\n"
     ]
    }
   ],
   "source": [
    "import cvxpy as cp\n",
    "import numpy as np\n",
    "\n",
    "x = cp.Variable((6,1), integer=True)\n",
    "c = np.array([1,3,4,2,2,4])\n",
    "A = np.array([[1, 1, 0, 0, 0, 0],\n",
    "              [0, 1, 1, 0, 0, 0],\n",
    "              [0, 1, 0, 0, 1, 0],\n",
    "              [0, 0, 1, 0, 1, 0],\n",
    "              [0, 0, 1, 1, 0, 0],\n",
    "              [0, 0, 0, 1, 1, 0], \n",
    "              [0, 0, 0, 0, 1, 1]])\n",
    "\n",
    "obj = cp.Minimize(c @ x)\n",
    "const = [A @ x >= np.ones(7)]\n",
    "const += [x >= np.zeros((6,1))]\n",
    "\n",
    "problem = cp.Problem(obj, const)\n",
    "result = problem.solve()\n",
    "print(result)\n",
    "print(\"x =\", x.value)\n",
    "\n",
    "\n"
   ]
  },
  {
   "cell_type": "code",
   "execution_count": 9,
   "metadata": {},
   "outputs": [
    {
     "name": "stdout",
     "output_type": "stream",
     "text": [
      "6.999999977475695\n",
      "[[0.48455618]\n",
      " [0.51544382]\n",
      " [0.48455618]\n",
      " [0.51544382]\n",
      " [1.        ]\n",
      " [0.        ]]\n"
     ]
    }
   ],
   "source": [
    "import cvxpy as cp\n",
    "import numpy as np\n",
    "\n",
    "x = cp.Variable((6,1), nonneg=True)\n",
    "c = np.array([1,3,4,2,2,4])\n",
    "A = np.array([[1, 1, 0, 0, 0, 0],\n",
    "              [0, 1, 1, 0, 0, 0],\n",
    "              [0, 1, 0, 0, 1, 0],\n",
    "              [0, 0, 1, 0, 1, 0],\n",
    "              [0, 0, 1, 1, 0, 0],\n",
    "              [0, 0, 0, 1, 1, 0], \n",
    "              [0, 0, 0, 0, 1, 1]])\n",
    "\n",
    "obj = cp.Minimize(c @ x)\n",
    "const = [A @ x >= np.ones(7)]\n",
    "\n",
    "problem = cp.Problem(obj, const)\n",
    "result = problem.solve()\n",
    "print(result)\n",
    "print(x.value)\n",
    "\n",
    "\n"
   ]
  },
  {
   "cell_type": "markdown",
   "metadata": {},
   "source": [
    "We are able to reach a smaller total in the LP relaxation since we do not have to select the full cost of every node. However, the ILP gives us a valid vertex cover by selecting entire nodes, often leading to a higher total cost. Rounding the LP solution can provide a feasible integer solution, but it may increase the total weight compared to the LP relaxation."
   ]
  },
  {
   "cell_type": "code",
   "execution_count": 10,
   "metadata": {},
   "outputs": [
    {
     "name": "stdout",
     "output_type": "stream",
     "text": [
      "7\n"
     ]
    }
   ],
   "source": [
    "roundedX = (x.value.flatten() >= 0.5).astype(int)\n",
    "total_cost = np.dot(roundedX, c)\n",
    "print(total_cost)\n"
   ]
  },
  {
   "cell_type": "markdown",
   "metadata": {},
   "source": [
    "If we round upp all the values that are >= 0.5 we get the following result: 1+3+4=7, compared to the ILP where we got 7. From this can we see that the rounding from the LP relaxation results in higher cost. This happens because the LP allows picking fractionall nodes, you dont have to pick a full node, leading to a lower bound, whereas rounding forces additional nodes into the cover, increasing the total weight. So LP relaxation can provide a useful approximation, however its rounded solution may not always be close to the ILP optimum."
   ]
  },
  {
   "cell_type": "markdown",
   "metadata": {
    "id": "FJozdRm7tQIE"
   },
   "source": [
    "# Question 3.\n",
    "\n",
    "Consider a number of interpreters (Olof, Petra, Qamar,\n",
    "  Rachel, Soren and Tao), as well as a set of languages (Arab,\n",
    "  Bengali, Cantonese, Dutch, English, French and German). Each\n",
    "  interpreter speaks a number of different languages (abbreviated by\n",
    "  first letter), and has a certain per-diem integer cost:\n",
    "\n",
    "\\begin{array}{lll}\n",
    "Interpreter & Languages & Cost\\\\\n",
    "O & ABD & 3\\\\\n",
    "P & C & 1\\\\\n",
    "Q & CDG & 1\\\\\n",
    "R & B & 2\\\\\n",
    "S & G & 4\\\\\n",
    "T & EF & 1\\\\\n",
    "\\end{array}\n",
    "\n",
    "* (2 points) A *hypergraph* is a structure $H = (V,E)$ where $V$ is a set of vertices and $E$ is a collection of subsets of $V$. The special case when all subsets $e \\in E$ have size exactly $2$ corresponds to the familiar case of a graph. A vertex cover in such a hypergraph is a subset $U \\subseteq V$ such that $e \\cap U \\not = \\emptyset$ for each $e \\in E$ (note that this reduces to the usual vertex cover in graphs). Show that the problem of finding interpreters can be formulated as a vertex cover problem in a sutable hypergraph.\n",
    "* (4 points) Develop a ILP formulation to finding the vertex cover of minimum cost in a hypergraph. The hypergraph can be represented as a $|V| \\times |E|$ binary matrix $A$ where $A[i,j] = 1$ iff vertex $i$ is in edge $j$ and 0 otherwise. The costs for vertices are in an array $\\texttt{c}$ where the cost of picking vertex $i$ is $c[i]$. Use the ILP formulation for the VC problem to hire the cheapest set of interpreters such that all languages are covered. Input the data above manuallly and solve it using **CVXPY**'s integer solver.\n",
    "* (2 points) Pass to the LP relaxation and solve it using **CVXPY**.\n",
    "* (2 points) Explain why the two solutions above are same (different).\n"
   ]
  },
  {
   "cell_type": "markdown",
   "metadata": {},
   "source": [
    "We can set the interpreters as the vertices with their respective costs and the subsets represent the languages that are spoken. For example, subset B includes interpreters O and R, both E and F only include T etc. This way we can solve the problem in a similar way as we would a vertex cover for a standard graph since we want to pick the cheapest combination of interpreters such that all languages are covered, i.e. we want to choose vertices such that each susbset has at least one vertex in the chosen set U and minimize this cost.\n",
    "\n",
    "ILP formulation:\n",
    "\\begin{array}\n",
    "\\mathcal{min} \\quad \\sum_{v \\in \\mathcal{V} } \\mathcal{w(v)*x_v}\\\\\n",
    "\\textrm{s.t} \\\\\n",
    "\\sum_{v \\in e} x_v \\geq 1, \\forall e \\in E\\\\\n",
    "x_v \\in \\{0, 1\\}\n",
    "\\end{array} \n"
   ]
  },
  {
   "cell_type": "code",
   "execution_count": 25,
   "metadata": {},
   "outputs": [
    {
     "name": "stdout",
     "output_type": "stream",
     "text": [
      "ILP\n",
      "5.0\n",
      "[[ 1.]\n",
      " [-0.]\n",
      " [ 1.]\n",
      " [-0.]\n",
      " [-0.]\n",
      " [ 1.]]\n",
      "Problem status: optimal\n"
     ]
    }
   ],
   "source": [
    "import cvxpy as cp\n",
    "import numpy as np\n",
    "\n",
    "A = np.array([[1, 0, 0, 0, 0, 0],\n",
    "              [1, 0, 0, 1, 0, 0],\n",
    "              [0, 1, 1, 0, 0, 0],\n",
    "              [1, 0, 1, 0, 0, 0],\n",
    "              [0, 0, 0, 0, 0, 1],\n",
    "              [0, 0, 0, 0, 0, 1], \n",
    "              [0, 0, 1, 0, 1, 0]])\n",
    "\n",
    "c = np.array([3,1,1,2,4,1])\n",
    "\n",
    "x = cp.Variable((6,1), integer=True)\n",
    "\n",
    "obj = cp.Minimize(c @ x)\n",
    "constraint = [A @ x >= np.ones(7)]\n",
    "constraint += [x >= np.zeros((6,1))]\n",
    "\n",
    "problem = cp.Problem(obj, constraint)\n",
    "result = problem.solve()\n",
    "print(\"ILP\")\n",
    "print(result)\n",
    "print(x.value)\n",
    "print(\"Problem status:\", problem.status)\n"
   ]
  },
  {
   "cell_type": "code",
   "execution_count": 24,
   "metadata": {},
   "outputs": [
    {
     "name": "stdout",
     "output_type": "stream",
     "text": [
      "LP relaxation\n",
      "5.0000000001057945\n",
      "[[1.0000000e+00]\n",
      " [4.8306787e-12]\n",
      " [1.0000000e+00]\n",
      " [0.0000000e+00]\n",
      " [0.0000000e+00]\n",
      " [1.0000000e+00]]\n",
      "Problem status: optimal\n"
     ]
    }
   ],
   "source": [
    "# LP Relaxation\n",
    "\n",
    "x_lp = cp.Variable((6,1), nonneg=True)\n",
    "A = np.array([[1, 0, 0, 0, 0, 0],\n",
    "              [1, 0, 0, 1, 0, 0],\n",
    "              [0, 1, 1, 0, 0, 0],\n",
    "              [1, 0, 1, 0, 0, 0],\n",
    "              [0, 0, 0, 0, 0, 1],\n",
    "              [0, 0, 0, 0, 0, 1], \n",
    "              [0, 0, 1, 0, 1, 0]])\n",
    "\n",
    "c = np.array([3,1,1,2,4,1])\n",
    "\n",
    "obj = cp.Minimize(c @ x_lp)\n",
    "constraint_lp = [A @ x_lp >= np.ones(7)]\n",
    "\n",
    "problem_lp = cp.Problem(obj, constraint_lp)\n",
    "result_lp = problem_lp.solve()\n",
    "print(\"LP relaxation\")\n",
    "print(result_lp)\n",
    "print(x_lp.value)\n",
    "print(\"Problem status:\", problem_lp.status)\n",
    "\n"
   ]
  },
  {
   "cell_type": "markdown",
   "metadata": {},
   "source": [
    "The Lp relaxation and ILP gives us almost the same awnser with marginal diffrences since the optimal solution is to always to fully choose a interpreter. An LP relaxation is only an lower bound for ILP which can sometimes be the same, which it is in this case. To make a cheaper option it has to violate the constraints which is not allowed. "
   ]
  },
  {
   "cell_type": "markdown",
   "metadata": {
    "id": "wQn66ghatQIG"
   },
   "source": [
    "# Question 4. \n",
    "Consider the ILP and its LP relaxation corresponding to the VC problem for the graph $G$ given in the data file. This is a ***random graph*** $G(n,p)$ with $n=100$ vertices generated as follows: for each pair of vertices **independently**, we add an edge with probability $p=0.1$ (so the graph has about 1000 edges).\n",
    "\n",
    "* **a**. (2 points) Find the optimal solution using **CVXPY**'s integer solver.\n",
    "* **b**. (2 points) Solve the LP relaxation using **CVXPY** and apply the rounding rule discussed in class to obtain a vertex cover. Compare it to the optimal solution in part (a).\n",
    "* **c**. (6 points) Consider the following rounding rule: we build up the vertex cover incrementally starting with $S:= \\emptyset$. Now consider the edges in $G$ in any order. If an edge $(u,v)$ is already covered by a vertex in $S$, do nothing. Otherwise add to $S$ the vertex $u$ if $x^*(u) \\geq x^*(v)$, or $v$ otherwise (where ${\\bf x}^*$ is the LP optimum solution computed in part (b).  Comment why this also results in a vertex cover and has cost no more than that corresponding to the rounding rule in part (b). Compare the cost of the solution produced by this rule to the optimal solution."
   ]
  },
  {
   "cell_type": "code",
   "execution_count": 40,
   "metadata": {},
   "outputs": [
    {
     "name": "stdout",
     "output_type": "stream",
     "text": [
      "ILP\n",
      "70.0\n",
      "Problem status: optimal\n"
     ]
    }
   ],
   "source": [
    "import cvxpy as cp\n",
    "import numpy as np\n",
    "\n",
    "A4 = np.loadtxt(\"graph.txt\", dtype=int)\n",
    "x4 = cp.Variable((100,1), boolean=True)\n",
    "c4 = np.ones(100)\n",
    "\n",
    "obj4 = cp.Minimize(c4 @ x4)\n",
    "\n",
    "constraints = []\n",
    "for i in range(100):\n",
    "    for j in range(i+1, 100):\n",
    "        if A4[i, j] == 1:\n",
    "            constraints.append(x4[i] + x4[j] >= 1)\n",
    "\n",
    "problem4 = cp.Problem(obj4, constraints)\n",
    "result4 = problem4.solve()\n",
    "\n",
    "print(\"ILP\")\n",
    "print(result4)\n",
    "print(\"Problem status:\", problem4.status)\n"
   ]
  },
  {
   "cell_type": "code",
   "execution_count": 2,
   "metadata": {},
   "outputs": [
    {
     "name": "stdout",
     "output_type": "stream",
     "text": [
      "LP relaxation (without rounding rule):\n",
      "50.0000000025476\n"
     ]
    }
   ],
   "source": [
    "import cvxpy as cp\n",
    "import numpy as np\n",
    "\n",
    "A4 = np.loadtxt(\"graph.txt\", dtype=int)\n",
    "x4 = cp.Variable((100,1), nonneg=True)\n",
    "c4 = np.ones(100)\n",
    "\n",
    "obj4 = cp.Minimize(c4 @ x4)\n",
    "\n",
    "constraints = []\n",
    "for i in range(100):\n",
    "    for j in range(i+1, 100):\n",
    "        if A4[i, j] == 1:\n",
    "            constraints.append(x4[i] + x4[j] >= 1)\n",
    "\n",
    "\n",
    "problem4 = cp.Problem(obj4, constraints)\n",
    "result4 = problem4.solve()\n",
    "\n",
    "print(\"LP relaxation (without rounding rule):\")\n",
    "print(result4)\n",
    "\n",
    "\n"
   ]
  },
  {
   "cell_type": "code",
   "execution_count": 5,
   "metadata": {},
   "outputs": [
    {
     "name": "stdout",
     "output_type": "stream",
     "text": [
      "Rounded cost\n",
      "99.0\n"
     ]
    }
   ],
   "source": [
    "x_val = np.round(x4.value, 9).flatten()\n",
    "roundedX = (x_val >= 0.5).astype(int)\n",
    "total_cost = np.dot(roundedX, c4)\n",
    "print(\"Rounded cost\")\n",
    "print(total_cost)"
   ]
  },
  {
   "cell_type": "markdown",
   "metadata": {},
   "source": [
    "The solution provided by this relaxation with the rounding rule is worse than that of the ILP. It is the worst case for a vertex cover in this case (all vertices are picked)\n"
   ]
  },
  {
   "cell_type": "code",
   "execution_count": 110,
   "metadata": {},
   "outputs": [
    {
     "name": "stdout",
     "output_type": "stream",
     "text": [
      "[1. 1. 1. 0. 1. 1. 1. 1. 1. 1. 0. 0. 1. 1. 0. 1. 1. 0. 0. 1. 1. 0. 1. 1.\n",
      " 1. 0. 1. 1. 1. 1. 1. 0. 0. 1. 1. 1. 0. 1. 1. 1. 1. 1. 1. 1. 1. 0. 0. 1.\n",
      " 1. 1. 1. 1. 0. 1. 1. 1. 1. 0. 0. 1. 1. 1. 1. 1. 0. 1. 0. 1. 1. 0. 1. 0.\n",
      " 0. 1. 1. 1. 1. 0. 1. 1. 1. 1. 1. 0. 0. 1. 1. 0. 1. 0. 1. 1. 1. 0. 1. 1.\n",
      " 1. 1. 1. 1.]\n",
      "73.0\n"
     ]
    }
   ],
   "source": [
    "S = np.zeros(100)\n",
    "E = []\n",
    "for i in range(100):\n",
    "    for j in range(i+1, 100):\n",
    "        if A4[i][j]==1:\n",
    "            E.append((i,j))\n",
    "\n",
    "for i in E:\n",
    "    u = i[0]\n",
    "    v = i[1]\n",
    "    if (S[u]==1 or S[v]==1):\n",
    "        continue\n",
    "    if x4.value[u]>=x4.value[v]:\n",
    "        S[u]=1\n",
    "    else:\n",
    "        S[v]=1\n",
    "\n",
    "print(S)\n",
    "print(np.sum(S))\n"
   ]
  },
  {
   "cell_type": "markdown",
   "metadata": {},
   "source": [
    " This method will never be worse than that of the LP relaxation in b) because \n",
    " \n",
    " \n",
    " \n",
    " because if two vertices $u, v$ sharing an edge have a value of $\\geq$ 0.5 we will always pick both, even if one of the other two vertices is already included. In the method in c), we would only pick the one in which the other vertex is not yet in the VC. I.e. if $v$ is already in the VC but not $v'$, the method in b) would still pick both edges, but the other method will only choose $e'$. Thus method c) will always be equal to or better than b).\n",
    "\n",
    " The solution we got is much closer to the optimal solution with a cost of 73."
   ]
  }
 ],
 "metadata": {
  "colab": {
   "collapsed_sections": [],
   "name": "hw2020-2.ipynb",
   "provenance": []
  },
  "kernelspec": {
   "display_name": "Python 3",
   "language": "python",
   "name": "python3"
  },
  "language_info": {
   "codemirror_mode": {
    "name": "ipython",
    "version": 3
   },
   "file_extension": ".py",
   "mimetype": "text/x-python",
   "name": "python",
   "nbconvert_exporter": "python",
   "pygments_lexer": "ipython3",
   "version": "3.10.0"
  }
 },
 "nbformat": 4,
 "nbformat_minor": 4
}
