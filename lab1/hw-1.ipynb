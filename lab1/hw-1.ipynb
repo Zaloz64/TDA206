{
 "cells": [
  {
   "cell_type": "markdown",
   "metadata": {},
   "source": [
    "\n",
    "$\\qquad$ $\\qquad$$\\qquad$  **TDA206/DIT206 Discrete Optimization: Assignment 1 -- Modelling and Solving LPs** <br />\n",
    "$\\qquad$ $\\qquad$$\\qquad$                   **Grader: N/A** <br />\n",
    "$\\qquad$ $\\qquad$$\\qquad$                     **Due Date: 27th January** <br />\n",
    "$\\qquad$ $\\qquad$$\\qquad$                   **Submitted by: Josef Jakobson, 0208282079, josefjak@chalmers.se <br />\n",
    "$\\qquad$ $\\qquad$$\\qquad$                                   Zoe Opdendries, 0208100065, zoe@zaloz.se <br />\n",
    "\n",
    "\n",
    "---\n",
    "\n",
    "\n",
    "General guidelines:\n",
    "*   All solutions to theoretical and pratical problems must be submitted in this ipynb notebook, and equations wherever required, should be formatted using LaTeX math-mode.\n",
    "*   All discussion regarding practical problems, along with solutions and plots should be specified in this notebook. All plots/results should be visible such that the notebook do not have to be run. But the code in the notebook should reproduce the plots/results if we choose to do so.\n",
    "*   Your name, personal number and email address should be specified above.\n",
    "*   All tables and other additional information should be included in this notebook.\n",
    "*   Before submitting, make sure that your Jupyter notebook run on another computer. That all plots can show on another computer including all your writing. It is good to check if your code can run here: https://colab.research.google.com.\n"
   ]
  },
  {
   "cell_type": "markdown",
   "metadata": {},
   "source": [
    "# Problem 1.\n",
    "\n",
    "Consider the following LP problem:\n",
    "\n",
    "\n",
    "\\begin{array}\n",
    "\\mathcal{max}\\quad 4x_1-2x_2+5x_3+6x_4+7x_5\\\\\n",
    "\\textrm{s.t} \\\\\n",
    "2x_1 + 2x_2 - 4x_3 + 4x_4 + 8x_5 \\leq 6\\\\\n",
    "2x_1 + x_2 - 2x_3 - x_4 - 3x_5 \\geq -1\\\\\n",
    "5x_1 - 2x_2 + 4x_3 + 4x_4 + 2x_5 = 5\\\\\n",
    "2x_1 - 2x_2 + 5x_3 + 3x_4 + x_5 \\leq 4\\\\\n",
    "\\vec x \\geq \\vec 0\n",
    "\\end{array}\n",
    "\n",
    "* Use CVXPY to solve the LP above. Submit your code, and print the solution vector and objective value."
   ]
  },
  {
   "cell_type": "code",
   "execution_count": 76,
   "metadata": {},
   "outputs": [
    {
     "name": "stdout",
     "output_type": "stream",
     "text": [
      "status: optimal\n",
      "optimal value 9.220338951278354\n",
      "optimal var 0.6271186572420944 2.8135594025836776 1.5423729088307199 1.1743968986062282e-09 0.6610169394681931\n"
     ]
    }
   ],
   "source": [
    "import cvxpy as cp\n",
    "\n",
    "x1 = cp.Variable()\n",
    "x2 = cp.Variable()\n",
    "x3 = cp.Variable()\n",
    "x4 = cp.Variable()\n",
    "x5 = cp.Variable()\n",
    "\n",
    "obj = cp.Maximize(4*x1 - 2*x2 + 5*x3 + 6*x4 + 7*x5)\n",
    "\n",
    "constraints = [2*x1+2*x2-4*x3+4*x4+8*x5 <= 6, \n",
    "               2*x1 + x2 - 2*x3 - x4 - 3*x5 >= -1,\n",
    "               5*x1 - 2*x2 + 4*x3 + 4*x4 + 2*x5 == 5,\n",
    "               2*x1 - 2*x2 + 5*x3 + 3*x4 + x5 <= 4,\n",
    "               x1 >= 0, x2 >= 0, x3 >= 0, x4 >= 0, x5 >= 0]\n",
    "               \n",
    "            \n",
    "\n",
    "prob = cp.Problem(obj, constraints)\n",
    "prob.solve()  # Returns the optimal value.\n",
    "print(\"status:\", prob.status)\n",
    "print(\"optimal value\", prob.value)\n",
    "print(\"optimal var\", x1.value, x2.value, x3.value, x4.value, x5.value)\n",
    "\n",
    "# Optimal solution found\n",
    "# Optimal value = 9.22\n",
    "# Optimal variables: x1 = 0.627, x2 = 2.81, x3 = 1.54, x4 = 1.17, x5 = 0.661"
   ]
  },
  {
   "cell_type": "markdown",
   "metadata": {},
   "source": [
    "# Problem 2.\n",
    "\n",
    "There are 3 people who all start at the same location, and want to get to same end destination a total of $d=100$ units away. They have 1 bicycle, which they have to share. The amount of distance per unit time that the three people can cover walking and cycling is given below:\n",
    "\n",
    "\\begin{array}{l|c|c|} \n",
    "      & Walking Speed & Cycling Speed\\\\ \\hline\n",
    " Person\\ 1 &  1 & 6 \\\\\n",
    " Person\\ 2 &  2 & 8 \\\\\n",
    " Person\\ 3 &  1 & 6\\\\ \\hline\n",
    "\\end{array}\n",
    "\n",
    "Our goal is to minimize the time $t$ required for all people to reach the end destination. For each person consider 4 variables $x_i$, $u_i$, $y_i$, $z_i$, which respectively are the amount of time walking forwards, the amount of time walking backwards, the amount of time cycling forwards, and the amount of time cycling backwards. \n",
    "\n",
    "1. Formulate an LP to solve this problem for the generic where there are $n$ people trying to move a distance $d$, each with walking rate $w_i$ and biking rate $b_i$ for $i = 1\\ldots n$.\n",
    "\n",
    "    You should consider the following constraints\n",
    "    - each person's total time for moving (forwards, backwards, walking, bike) not exceed the total time $t$\n",
    "    - each person must make it all the way to $d$, recall that distance = velocity * time\n",
    "    - the bike, riding forwards or backwards, can only be used for at most $t$ units of time.\n",
    "    - the bike's distance to the start is at most $d$, remember that it can move both forwards and backwards.\n",
    "    - time cannot be negative\n",
    "   \n",
    "2. Implement the generic LP in CVXPY and solve for the specific case of 3 people given above. Submit your code and write down objective and solution. Also confirm that the optimal solution satisfies $u_i = 0$ (i.e. no one ever walks backwards) and $y_iz_i = 0$ for all persons (i.e. no person ever cycles both forwards and backwards).\n",
    "\n",
    "3. Use CVXPY to show what would happen if there was a 4th person who could walk at rate $3$ and cycle at rate $9$.\n"
   ]
  },
  {
   "cell_type": "markdown",
   "metadata": {},
   "source": [
    "\n",
    "\\begin{array}\n",
    "\\mathcal{min} \\quad t\\\\\n",
    "\\textrm{s.t} \\\\\n",
    "t \\geq x_1 + u_1 + y_1 + z_1\\\\\n",
    "... \\\\\n",
    "t \\geq x_n + u_n + y_n + z_n\\\\\n",
    "w_1(x_1 - u_1) + b_1(y_1 + z_1) = d\\\\\n",
    "...\\\\\n",
    "w_n(x_n - u_n) + b_n(y_n + z_n) = d\\\\\n",
    "\\sum^n_{i = 1} (y_i + z_i) \\leq t\\\\\n",
    "b_1 (y_1 - z_1) \\leq d\\\\\n",
    "...\\\\\n",
    "b_n (y_n - z_n) \\leq d\\\\\n",
    "\\vec {(x_i, u_i, y_i, z_i)^n_{i=1}} \\geq \\vec 0\n",
    "\\end{array} "
   ]
  },
  {
   "cell_type": "code",
   "execution_count": 9,
   "metadata": {},
   "outputs": [
    {
     "name": "stdout",
     "output_type": "stream",
     "text": [
      "person1:  19.23076920689141 1.8191215148992635e-08 13.461538469340011 7.900410014266375e-10\n",
      "person2:  26.923076933357205 5.6229194634082215e-09 5.7692307691329345 1.0665044885327422e-09\n",
      "person3:  19.23076920689141 1.8191215148991173e-08 13.461538469340011 7.900410014266076e-10\n",
      "time = 32.69230770786605\n"
     ]
    }
   ],
   "source": [
    "import cvxpy as cp\n",
    "\n",
    "x1 = cp.Variable(nonneg=True)\n",
    "u1 = cp.Variable(nonneg=True)\n",
    "y1 = cp.Variable(nonneg=True)\n",
    "z1 = cp.Variable(nonneg=True)\n",
    "\n",
    "x2 = cp.Variable(nonneg=True)\n",
    "u2 = cp.Variable(nonneg=True)\n",
    "y2 = cp.Variable(nonneg=True)\n",
    "z2 = cp.Variable(nonneg=True)\n",
    "\n",
    "x3 = cp.Variable(nonneg=True)\n",
    "u3 = cp.Variable(nonneg=True)\n",
    "y3 = cp.Variable(nonneg=True)\n",
    "z3 = cp.Variable(nonneg=True)\n",
    "\n",
    "t = cp.Variable()\n",
    "\n",
    "obj = cp.Minimize(t)\n",
    "\n",
    "constraints = [\n",
    "                t >= x1 + u1 + y1 + z1,\n",
    "                t >= x2 + u2 + y2 + z2,\n",
    "                t >= x3 + u3 + y3 + z3,\n",
    "                100 == 1*(x1-u1) + 6*(y1-z1), \n",
    "                100 == 2*(x2-u2) + 8*(y2-z2), \n",
    "                100 == 1*(x3-u3) + 6*(y3-z3), \n",
    "                t >= (y1 + z1) + (y2 + z2) + (y3 + z3),\n",
    "                t >= 0,\n",
    "                x1 >= 0, u1 >= 0, y1 >= 0, z1 >= 0, \n",
    "                 x2 >= 0, u2 >= 0, y2 >= 0, z2 >= 0,\n",
    "                 x3 >= 0, u3 >= 0, y3 >= 0, z3 >= 0\n",
    "               ]\n",
    "\n",
    "prob = cp.Problem(obj, constraints)\n",
    "result = prob.solve()\n",
    "print(\"person1: \", x1.value, u1.value, y1.value, z1.value) \n",
    "print(\"person2: \", x2.value, u2.value, y2.value, z2.value) \n",
    "print(\"person3: \", x3.value, u3.value, y3.value, z3.value) \n",
    "print(\"time =\", t.value)\n"
   ]
  },
  {
   "cell_type": "code",
   "execution_count": 10,
   "metadata": {},
   "outputs": [
    {
     "name": "stdout",
     "output_type": "stream",
     "text": [
      "person1:  35.135137550785544 3.6259294928695663e-07 10.81081058230922 1.1367464168701876e-07\n",
      "person2:  44.594596493976546 2.770655470578314e-07 1.351351172109246 2.2633697473929394e-07\n",
      "person3:  35.13513755078555 3.6259294928695663e-07 10.81081058230922 1.1367464168702104e-07\n",
      "person4:  33.3333362989509 8.623511784045089e-07 5.592092082558389e-07 1.2602979908258107e-06\n",
      "time = 45.94594956539879\n"
     ]
    }
   ],
   "source": [
    "import cvxpy as cp\n",
    "\n",
    "x1 = cp.Variable(nonneg=True)\n",
    "u1 = cp.Variable(nonneg=True)\n",
    "y1 = cp.Variable(nonneg=True)\n",
    "z1 = cp.Variable(nonneg=True)\n",
    "\n",
    "x2 = cp.Variable(nonneg=True)\n",
    "u2 = cp.Variable(nonneg=True)\n",
    "y2 = cp.Variable(nonneg=True)\n",
    "z2 = cp.Variable(nonneg=True)\n",
    "\n",
    "x3 = cp.Variable(nonneg=True)\n",
    "u3 = cp.Variable(nonneg=True)\n",
    "y3 = cp.Variable(nonneg=True)\n",
    "z3 = cp.Variable(nonneg=True)\n",
    "\n",
    "\n",
    "x4 = cp.Variable(nonneg=True)\n",
    "u4 = cp.Variable(nonneg=True)\n",
    "y4 = cp.Variable(nonneg=True)\n",
    "z4 = cp.Variable(nonneg=True)\n",
    "\n",
    "t = cp.Variable()\n",
    "\n",
    "obj = cp.Minimize(t)\n",
    "\n",
    "constraints = [ \n",
    "                t >= x1 + u1 + y1 + z1,\n",
    "                t >= x2 + u2 + y2 + z2,\n",
    "                t >= x3 + u3 + y3 + z3,\n",
    "                t >= x4 + u4 + y4 + z4,\n",
    "                100 == 3*(x4 - u4) + 9*(y4 - z4),\n",
    "                100 == 1*(x1-u1) + 6*(y1-z1), \n",
    "                100 == 2*(x2-u2) + 8*(y2-z2), \n",
    "                100 == 1*(x3-u3) + 6*(y3-z3),\n",
    "                t >= (y1 + z1 + y1 + u1) + (y2 + z2 + y2 + u2) + (y3 + z3 + y3 + u3) + (y4+z4 + y4 + u4),\n",
    "                t >= 0,\n",
    "                x1 >= 0, u1 >= 0, y1 >= 0, z1 >= 0, \n",
    "                x2 >= 0, u2 >= 0, y2 >= 0, z2 >= 0,\n",
    "                x3 >= 0, u3 >= 0, y3 >= 0, z3 >= 0,\n",
    "                x4 >= 0, u4 >= 0, y4 >= 0, z4 >= 0\n",
    "               ]\n",
    "\n",
    "prob = cp.Problem(obj, constraints)\n",
    "result = prob.solve()\n",
    "print(\"person1: \", x1.value, u1.value, y1.value, z1.value) \n",
    "print(\"person2: \", x2.value, u2.value, y2.value, z2.value) \n",
    "print(\"person3: \", x3.value, u3.value, y3.value, z3.value) \n",
    "print(\"person4: \", x4.value, u4.value, y4.value, z4.value) \n",
    "print(\"time =\", t.value)\n"
   ]
  },
  {
   "cell_type": "markdown",
   "metadata": {},
   "source": [
    "# Question 3.\n",
    "Use CVXPY to model and solve the other examples in the textbook (sections 2.1 -- 2.6)."
   ]
  },
  {
   "cell_type": "markdown",
   "metadata": {},
   "source": [
    "### 2.1"
   ]
  },
  {
   "cell_type": "code",
   "execution_count": 11,
   "metadata": {},
   "outputs": [
    {
     "name": "stdout",
     "output_type": "stream",
     "text": [
      "status: optimal\n",
      "optimal value 0.07051091020189401\n",
      "optimal var 0.00952634388479011 0.038265035118985914 0.29489089819205655\n"
     ]
    }
   ],
   "source": [
    "import cvxpy as cp\n",
    "\n",
    "# Optimized Diet Problem \n",
    "\n",
    "carrot = cp.Variable()\n",
    "cabbage = cp.Variable()\n",
    "pickle = cp.Variable()\n",
    "\n",
    " \n",
    "# Objective function\n",
    "objective = cp.Minimize(0.75*carrot + 0.5*cabbage + 0.15*pickle)\n",
    "constraints = [carrot >= 0, cabbage >= 0, pickle >= 0, \n",
    "            35*carrot +0.5*cabbage +0.5*pickle >= 0.5, \n",
    "            60*carrot+ 300*cabbage + 10*pickle >= 15, \n",
    "            30*carrot+ 20*cabbage + 10*pickle >= 4]\n",
    "\n",
    "# Form and solve problem.\n",
    "prob = cp.Problem(objective, constraints)\n",
    "prob.solve()  # Returns the optimal value.\n",
    "print(\"status:\", prob.status)\n",
    "print(\"optimal value\", prob.value)\n",
    "print(\"optimal var\", carrot.value, cabbage.value, pickle.value)\n"
   ]
  },
  {
   "cell_type": "markdown",
   "metadata": {},
   "source": [
    "### 2.2"
   ]
  },
  {
   "cell_type": "code",
   "execution_count": 12,
   "metadata": {},
   "outputs": [
    {
     "name": "stdout",
     "output_type": "stream",
     "text": [
      "3.9999999961661765\n",
      "[ 2.          1.          1.          1.          1.          2.\n",
      "  2.19322917 -1.19322917  3.19322917  0.80677083]\n"
     ]
    }
   ],
   "source": [
    "import cvxpy as cp\n",
    "\n",
    "X = cp.Variable(10)\n",
    "xoa, xob, xoc, xab, xad, xbe, xcd, xce, xdn, xen = X\n",
    "\n",
    "obj = cp.Maximize(xoa + xob + xoc)\n",
    "\n",
    "cons = [-3 <= xoa, xoa <= 3, \n",
    "        -1 <= xob, xob <= 1, \n",
    "        -1 <= xoc, xoc <= 1,\n",
    "        -1 <= xab, xab <= 1, \n",
    "        -1 <= xad, xad <= 1, \n",
    "        -3 <= xbe, xbe <= 3,\n",
    "        -4 <= xcd, xcd <= 4, \n",
    "        -4 <= xce, xce <= 4, \n",
    "        -4 <= xdn, xdn <= 4,\n",
    "        -1 <= xen, xen <= 1,\n",
    "        \n",
    "        xoa == xab + xad,\n",
    "        xob + xab == xbe,\n",
    "        xoc == xcd + xce,\n",
    "        xad + xcd == xdn,\n",
    "        xbe + xce == xen]\n",
    "\n",
    "problem = cp.Problem(obj, cons)\n",
    "result = problem.solve()\n",
    "\n",
    "print(result)\n",
    "print(X.value)"
   ]
  },
  {
   "cell_type": "markdown",
   "metadata": {},
   "source": [
    "### 2.3"
   ]
  },
  {
   "cell_type": "code",
   "execution_count": 13,
   "metadata": {},
   "outputs": [
    {
     "name": "stdout",
     "output_type": "stream",
     "text": [
      "53133.333328871944\n",
      "[1.47766464e-14 3.40000000e+02 4.63333332e+02 6.43333334e+02\n",
      " 6.43333334e+02 6.43333334e+02 6.43333333e+02 6.43333333e+02\n",
      " 4.60000000e+02 4.60000000e+02 4.60000000e+02 4.60000000e+02]\n",
      "[0.00000000e+00 3.40000000e+02 1.23333332e+02 1.80000001e+02\n",
      " 0.00000000e+00 0.00000000e+00 0.00000000e+00 0.00000000e+00\n",
      " 0.00000000e+00 0.00000000e+00 4.87330299e-08 6.71740469e-08]\n",
      "[0.00000000e+00 0.00000000e+00 0.00000000e+00 0.00000000e+00\n",
      " 0.00000000e+00 1.62569759e-07 3.95030642e-08 1.62095968e-07\n",
      " 1.83333333e+02 1.38120638e-08 0.00000000e+00 0.00000000e+00]\n",
      "[0.00000000e+00 1.36311022e-07 1.33333324e+01 6.66666617e+00\n",
      " 0.00000000e+00 9.33333335e+01 3.66666668e+01 0.00000000e+00\n",
      " 1.20000000e+02 1.30000000e+02 1.90000000e+02 0.00000000e+00]\n"
     ]
    }
   ],
   "source": [
    "import cvxpy as cp\n",
    "\n",
    "# dont need to add >= 0 since we put it in the decleration\n",
    "#oklart om demand är rätt hitta inte vart det stos så la in det genom grafen\n",
    "x = cp.Variable(12, nonneg=True) # Production\n",
    "y = cp.Variable(12, nonneg=True) # increase in production\n",
    "z = cp.Variable(12, nonneg=True) # decrease in production\n",
    "s = cp.Variable(12, nonneg=True) # total surplus\n",
    "\n",
    "d = [350,340,450,650,650,550,700,680,340,450,400,650] # Demand\n",
    "\n",
    "obj = cp.Minimize(50 * cp.sum(y) + 50 * cp.sum(z) + 20 * cp.sum(s))\n",
    "\n",
    "cons = []\n",
    "\n",
    "cons += [x[i] + s[i-1] - s[i] == d[i] for i in range(1,12)]\n",
    "cons += [x[i] - x[i-1] == y[i] - z[i] for i in range(1,12)]\n",
    "cons += [x[0] == 0, s[0] == 0, s[11] == 0]\n",
    "\n",
    "problem = cp.Problem(obj, cons)\n",
    "result = problem.solve()\n",
    "\n",
    "print(result)\n",
    "print(x.value)\n",
    "print(y.value)\n",
    "print(z.value)\n",
    "print(s.value)\n",
    "\n"
   ]
  },
  {
   "cell_type": "markdown",
   "metadata": {},
   "source": [
    "### 2.4"
   ]
  },
  {
   "cell_type": "code",
   "execution_count": 14,
   "metadata": {},
   "outputs": [
    {
     "data": {
      "image/png": "[encoded data removed]",
      "text/plain": [
       "<Figure size 800x500 with 1 Axes>"
      ]
     },
     "metadata": {},
     "output_type": "display_data"
    }
   ],
   "source": [
    "import matplotlib.pyplot as plt\n",
    "import numpy as np\n",
    "\n",
    "x = [10, 25, 30, 34, 38, 38, 43, 46, 54,54]  # Custom x-values\n",
    "y = [52, 49, 45, 46, 45, 58, 45, 43, 43, 38]  # Custom y-values\n",
    "\n",
    "# Create the plot\n",
    "plt.figure(figsize=(8, 5))\n",
    "plt.plot(x, y, marker='o', linestyle='', color='black', label='Data Points')\n",
    "\n",
    "# Add labels\n",
    "plt.xlabel('Loudness level DP')\n",
    "plt.ylabel('TV watchers %')\n",
    "\n",
    "# Set axis limits\n",
    "plt.xlim(0, 80)\n",
    "plt.ylim(30, 70)\n",
    "\n",
    "# Show legend\n",
    "plt.legend()\n",
    "\n",
    "# Show the plot\n",
    "plt.show()\n"
   ]
  },
  {
   "cell_type": "code",
   "execution_count": 19,
   "metadata": {},
   "outputs": [
    {
     "name": "stdout",
     "output_type": "stream",
     "text": [
      "21.999999154128865\n",
      "[7.84250915e-08 7.49999809e-01 2.00000007e+00 9.96495451e-08\n",
      " 9.97039638e-08 1.29999997e+01 1.24999961e+00 1.00522230e-07\n",
      " 1.99999950e+00 3.00000013e+00]\n",
      "-0.24999999248547128\n",
      "54.499999926074636\n"
     ]
    }
   ],
   "source": [
    "import cvxpy as cp\n",
    "\n",
    "e = cp.Variable(10)\n",
    "a = cp.Variable()\n",
    "b = cp.Variable()\n",
    "\n",
    "obj = cp.Minimize(cp.sum(e))\n",
    "\n",
    "cons = []\n",
    "cons += [e[i] >= a*x[i] + b - y[i] for i in range(0,10)]\n",
    "cons += [e[i] >= -(a*x[i] + b - y[i]) for i in range(0,10)]\n",
    "\n",
    "problem = cp.Problem(obj, cons)\n",
    "result = problem.solve()\n",
    "print(result)\n",
    "print(e.value)\n",
    "print(a.value)\n",
    "print(b.value)\n"
   ]
  },
  {
   "cell_type": "code",
   "execution_count": 16,
   "metadata": {},
   "outputs": [
    {
     "data": {
      "image/png": "[encoded data removed]",
      "text/plain": [
       "<Figure size 800x500 with 1 Axes>"
      ]
     },
     "metadata": {},
     "output_type": "display_data"
    }
   ],
   "source": [
    "\n",
    "plt.figure(figsize=(8, 5))\n",
    "plt.plot(x, y, marker='o', linestyle='', color='black', label='Data Points')\n",
    "\n",
    "# Generate the fitted line using optimal values of a and b\n",
    "x_fit = np.linspace(min(x), max(x), 100)\n",
    "y_fit = a.value * x_fit + b.value\n",
    "plt.plot(x_fit, y_fit, color='red', label='Fitted Line')\n",
    "\n",
    "# Add labels and set axis limits\n",
    "plt.xlabel('Loudness level DP')\n",
    "plt.ylabel('TV watchers %')\n",
    "plt.xlim(0, 80)\n",
    "plt.ylim(30, 70)\n",
    "\n",
    "# Show legend and plot\n",
    "plt.legend()\n",
    "plt.title('Data Points and Fitted Line')\n",
    "plt.grid(True)\n",
    "plt.show()"
   ]
  },
  {
   "cell_type": "markdown",
   "metadata": {},
   "source": [
    "### 2.5"
   ]
  },
  {
   "cell_type": "code",
   "execution_count": 75,
   "metadata": {},
   "outputs": [
    {
     "name": "stdout",
     "output_type": "stream",
     "text": [
      "Optimal gap: 1.5000000000039782\n",
      "Optimal a: -5.1451541787250154e-11\n",
      "Optimal b: 5.5000000001885\n"
     ]
    },
    {
     "data": {
      "image/png": "[encoded data removed]",
      "text/plain": [
       "<Figure size 800x500 with 1 Axes>"
      ]
     },
     "metadata": {},
     "output_type": "display_data"
    }
   ],
   "source": [
    "import cvxpy as cp\n",
    "\n",
    "class_1_x = [2, 3, 4, 5, 6]\n",
    "class_1_y = [4, 4, 3, 4, 3]\n",
    "\n",
    "class_2_x = [2, 3, 4, 5, 6]\n",
    "class_2_y = [7, 8, 10, 7, 9]\n",
    "\n",
    "\n",
    "gap = cp.Variable(nonneg=True)\n",
    "a = cp.Variable()\n",
    "b = cp.Variable()\n",
    "\n",
    "obj = cp.Maximize(gap)\n",
    "\n",
    "cons1 = [class_1_y[i] <= a * class_1_x[i] + b - gap for i in range(len(class_1_x))]\n",
    "cons2 = [class_2_y[i] >= a * class_2_x[i] + b + gap for i in range(len(class_2_x))]\n",
    "\n",
    "cons = cons1 + cons2\n",
    "problem = cp.Problem(obj, cons)\n",
    "result = problem.solve()\n",
    "print(\"Optimal gap:\", gap.value)\n",
    "print(\"Optimal a:\", a.value)\n",
    "print(\"Optimal b:\", b.value)\n",
    "\n",
    "#plot the line ax + b and the gap\n",
    "plt.figure(figsize=(8, 5))\n",
    "plt.scatter(class_1_x, class_1_y, color='blue', label='Class 1')\n",
    "plt.scatter(class_2_x, class_2_y, color='red', label='Class 2')\n",
    "plt.plot([0, 12], [b.value, 12*a.value + b.value], color='green', label='Decision Boundary')\n",
    "plt.plot([0, 12], [b.value + gap.value, 12*a.value + b.value + gap.value], linestyle='--', color='green', label='Margin')\n",
    "plt.plot([0, 12], [b.value - gap.value, 12*a.value + b.value - gap.value], linestyle='--', color='green')\n",
    "plt.show()\n"
   ]
  },
  {
   "cell_type": "markdown",
   "metadata": {},
   "source": [
    "### 2.6"
   ]
  },
  {
   "cell_type": "code",
   "execution_count": 65,
   "metadata": {},
   "outputs": [
    {
     "name": "stdout",
     "output_type": "stream",
     "text": [
      "Optimal centre:  (array(34.16407865), array(35.83592135))\n",
      "Optimal radius: 20.03103212456623\n"
     ]
    },
    {
     "data": {
      "image/png": "[encoded data removed]",
      "text/plain": [
       "<Figure size 800x800 with 1 Axes>"
      ]
     },
     "metadata": {},
     "output_type": "display_data"
    }
   ],
   "source": [
    "from math import sqrt\n",
    "\n",
    "POLY_SIZE = 5\n",
    "points = [(20, 10), (50, 20), (60, 50), (30, 60), (10, 40)]\n",
    "x = [p[0] for p in points + [points[0]]]\n",
    "y = [p[1] for p in points + [points[0]]]\n",
    "\n",
    "a = [(y2 - y1) / (x2 - x1) for (x1, y1), (x2, y2) in zip(points, points[1:] + [points[0]])]\n",
    "b = [y1 - a_ * x1 for a_, (x1, y1) in zip(a, points)]\n",
    "r = cp.Variable(nonneg=True)\n",
    "\n",
    "obj = cp.Maximize(r)\n",
    "s1 = cp.Variable()\n",
    "s2 = cp.Variable()\n",
    "\n",
    "conspos = [(s2 - a[i] * s1 - b[i] ) / sqrt(a[i]**2 + 1) >= r for i in [-1, 0, 1]]\n",
    "consneg = [(s2 - a[i] * s1 - b[i] ) / sqrt(a[i]**2 + 1) <= -r for i in [2, 3]]\n",
    "problem = cp.Problem(obj, conspos + consneg)\n",
    "result = problem.solve()\n",
    "print(\"Optimal centre: \", (s1.value, s2.value))\n",
    "print(\"Optimal radius:\", r.value)\n",
    "\n",
    "plt.figure(figsize=(8, 8))\n",
    "plt.xlim(0, 80)\n",
    "plt.ylim(0, 80)\n",
    "plt.plot(x, y, 'r-', label='Polygon')\n",
    "circle = plt.Circle((s1.value, s2.value), r.value, color='blue', fill=False)\n",
    "plt.gca().add_artist(circle)\n",
    "plt.show()\n"
   ]
  }
 ],
 "metadata": {
  "kernelspec": {
   "display_name": "Python 3 (ipykernel)",
   "language": "python",
   "name": "python3"
  },
  "language_info": {
   "codemirror_mode": {
    "name": "ipython",
    "version": 3
   },
   "file_extension": ".py",
   "mimetype": "text/x-python",
   "name": "python",
   "nbconvert_exporter": "python",
   "pygments_lexer": "ipython3",
   "version": "3.10.0"
  }
 },
 "nbformat": 4,
 "nbformat_minor": 4
}
