{
 "cells": [
  {
   "cell_type": "markdown",
   "metadata": {},
   "source": [
    "\n",
    "$\\qquad$ $\\qquad$$\\qquad$  **TDA206/DIT206 Discrete Optimization: Assignment 1 -- Modelling and Solving LPs** <br />\n",
    "$\\qquad$ $\\qquad$$\\qquad$                   **Grader: N/A** <br />\n",
    "$\\qquad$ $\\qquad$$\\qquad$                     **Due Date: 27th January** <br />\n",
    "$\\qquad$ $\\qquad$$\\qquad$                   **Submitted by: Name, Personal No., Email** <br />\n",
    "\n",
    "\n",
    "---\n",
    "\n",
    "\n",
    "General guidelines:\n",
    "*   All solutions to theoretical and pratical problems must be submitted in this ipynb notebook, and equations wherever required, should be formatted using LaTeX math-mode.\n",
    "*   All discussion regarding practical problems, along with solutions and plots should be specified in this notebook. All plots/results should be visible such that the notebook do not have to be run. But the code in the notebook should reproduce the plots/results if we choose to do so.\n",
    "*   Your name, personal number and email address should be specified above.\n",
    "*   All tables and other additional information should be included in this notebook.\n",
    "*   Before submitting, make sure that your Jupyter notebook run on another computer. That all plots can show on another computer including all your writing. It is good to check if your code can run here: https://colab.research.google.com.\n"
   ]
  },
  {
   "cell_type": "markdown",
   "metadata": {},
   "source": [
    "# Problem 1.\n",
    "\n",
    "Consider the following LP problem:\n",
    "\n",
    "\n",
    "\\begin{array}\n",
    "\\mathcal{max}\\quad 4x_1-2x_2+5x_3+6x_4+7x_5\\\\\n",
    "\\textrm{s.t} \\\\\n",
    "2x_1 + 2x_2 - 4x_3 + 4x_4 + 8x_5 \\leq 6\\\\\n",
    "2x_1 + x_2 - 2x_3 - x_4 - 3x_5 \\geq -1\\\\\n",
    "5x_1 - 2x_2 + 4x_3 + 4x_4 + 2x_5 = 5\\\\\n",
    "2x_1 - 2x_2 + 5x_3 + 3x_4 + x_5 \\leq 4\\\\\n",
    "\\vec x \\geq \\vec 0\n",
    "\\end{array}\n",
    "\n",
    "* Use CVXPY to solve the LP above. Submit your code, and print the solution vector and objective value."
   ]
  },
  {
   "cell_type": "code",
   "execution_count": 17,
   "metadata": {},
   "outputs": [
    {
     "name": "stdout",
     "output_type": "stream",
     "text": [
      "hello\n"
     ]
    }
   ],
   "source": [
    "import cvxpy as cp\n",
    "\n",
    "print(\"hello\")"
   ]
  },
  {
   "cell_type": "markdown",
   "metadata": {},
   "source": [
    "# Problem 2.\n",
    "\n",
    "There are 3 people who all start at the same location, and want to get to same end destination a total of $d=100$ units away. They have 1 bicycle, which they have to share. The amount of distance per unit time that the three people can cover walking and cycling is given below:\n",
    "\n",
    "\\begin{array}{l|c|c|} \n",
    "      & Walking Speed & Cycling Speed\\\\ \\hline\n",
    " Person\\ 1 &  1 & 6 \\\\\n",
    " Person\\ 2 &  2 & 8 \\\\\n",
    " Person\\ 3 &  1 & 6\\\\ \\hline\n",
    "\\end{array}\n",
    "\n",
    "Our goal is to minimize the time $t$ required for all people to reach the end destination. For each person consider 4 variables $x_i$, $u_i$, $y_i$, $z_i$, which respectively are the amount of time walking forwards, the amount of time walking backwards, the amount of time cycling forwards, and the amount of time cycling backwards. \n",
    "\n",
    "1. Formulate an LP to solve this problem for the generic where there are $n$ people trying to move a distance $d$, each with walking rate $w_i$ and biking rate $b_i$ for $i = 1\\ldots n$.\n",
    "\n",
    "    You should consider the following constraints\n",
    "    - each person's total time for moving (forwards, backwards, walking, bike) not exceed the total time $t$\n",
    "    - each person must make it all the way to $d$, recall that distance = velocity * time\n",
    "    - the bike, riding forwards or backwards, can only be used for at most $t$ units of time.\n",
    "    - the bike's distance to the start is at most $d$, remember that it can move both forwards and backwards.\n",
    "    - time cannot be negative\n",
    "   \n",
    "2. Implement the generic LP in CVXPY and solve for the specific case of 3 people given above. Submit your code and write down objective and solution. Also confirm that the optimal solution satisfies $u_i = 0$ (i.e. no one ever walks backwards) and $y_iz_i = 0$ for all persons (i.e. no person ever cycles both forwards and backwards).\n",
    "\n",
    "3. Use CVXPY to show what would happen if there was a 4th person who could walk at rate $3$ and cycle at rate $9$.\n"
   ]
  },
  {
   "cell_type": "code",
   "execution_count": 44,
   "metadata": {},
   "outputs": [
    {
     "name": "stdout",
     "output_type": "stream",
     "text": [
      "person1,  19.23076920689141 1.8191215148992635e-08 13.461538469340011 7.900410014266375e-10\n",
      "person2,  26.923076933357205 5.6229194634082215e-09 5.7692307691329345 1.0665044885327422e-09\n",
      "person3,  19.23076920689141 1.8191215148991173e-08 13.461538469340011 7.900410014266076e-10\n",
      "time = 32.69230770786605\n"
     ]
    }
   ],
   "source": [
    "import cvxpy as cp\n",
    "\n",
    "x1 = cp.Variable(nonneg=True)\n",
    "u1 = cp.Variable(nonneg=True)\n",
    "y1 = cp.Variable(nonneg=True)\n",
    "z1 = cp.Variable(nonneg=True)\n",
    "\n",
    "x2 = cp.Variable(nonneg=True)\n",
    "u2 = cp.Variable(nonneg=True)\n",
    "y2 = cp.Variable(nonneg=True)\n",
    "z2 = cp.Variable(nonneg=True)\n",
    "\n",
    "x3 = cp.Variable(nonneg=True)\n",
    "u3 = cp.Variable(nonneg=True)\n",
    "y3 = cp.Variable(nonneg=True)\n",
    "z3 = cp.Variable(nonneg=True)\n",
    "\n",
    "t = cp.Variable()\n",
    "\n",
    "obj = cp.Minimize(t)\n",
    "\n",
    "constraints = [\n",
    "                t >= x1 + u1 + y1 + z1,\n",
    "                t >= x2 + u2 + y2 + z2,\n",
    "                t >= x3 + u3 + y3 + z3,\n",
    "                100 == 1*(x1-u1) + 6*(y1-z1), \n",
    "                100 == 2*(x2-u2) + 8*(y2-z2), \n",
    "                100 == 1*(x3-u3) + 6*(y3-z3), \n",
    "\n",
    "\n",
    "\n",
    "                t >= (y1 + z1) + (y2 + z2) + (y3 + z3),\n",
    "                t >= 0,\n",
    "                x1 >= 0, u1 >= 0, y1 >= 0, z1 >= 0, \n",
    "                 x2 >= 0, u2 >= 0, y2 >= 0, z2 >= 0,\n",
    "                 x3 >= 0, u3 >= 0, y3 >= 0, z3 >= 0\n",
    "               ]\n",
    "\n",
    "prob = cp.Problem(obj, constraints)\n",
    "result = prob.solve()\n",
    "print(\"person1, \", x1.value, u1.value, y1.value, z1.value) \n",
    "print(\"person2, \", x2.value, u2.value, y2.value, z2.value) \n",
    "print(\"person3, \", x3.value, u3.value, y3.value, z3.value) \n",
    "print(\"time =\", t.value)\n"
   ]
  },
  {
   "cell_type": "code",
   "execution_count": 24,
   "metadata": {},
   "outputs": [
    {
     "name": "stdout",
     "output_type": "stream",
     "text": [
      "person1,  35.135137550785544 3.6259294928695663e-07 10.81081058230922 1.1367464168701876e-07\n",
      "person2,  44.594596493976546 2.770655470578314e-07 1.351351172109246 2.2633697473929394e-07\n",
      "person3,  35.13513755078555 3.6259294928695663e-07 10.81081058230922 1.1367464168702104e-07\n",
      "person4,  33.3333362989509 8.623511784045089e-07 5.592092082558389e-07 1.2602979908258107e-06\n",
      "time = 45.94594956539879\n"
     ]
    }
   ],
   "source": [
    "import cvxpy as cp\n",
    "\n",
    "x1 = cp.Variable(nonneg=True)\n",
    "u1 = cp.Variable(nonneg=True)\n",
    "y1 = cp.Variable(nonneg=True)\n",
    "z1 = cp.Variable(nonneg=True)\n",
    "\n",
    "x2 = cp.Variable(nonneg=True)\n",
    "u2 = cp.Variable(nonneg=True)\n",
    "y2 = cp.Variable(nonneg=True)\n",
    "z2 = cp.Variable(nonneg=True)\n",
    "\n",
    "x3 = cp.Variable(nonneg=True)\n",
    "u3 = cp.Variable(nonneg=True)\n",
    "y3 = cp.Variable(nonneg=True)\n",
    "z3 = cp.Variable(nonneg=True)\n",
    "\n",
    "\n",
    "x4 = cp.Variable(nonneg=True)\n",
    "u4 = cp.Variable(nonneg=True)\n",
    "y4 = cp.Variable(nonneg=True)\n",
    "z4 = cp.Variable(nonneg=True)\n",
    "\n",
    "t = cp.Variable()\n",
    "\n",
    "obj = cp.Minimize(t)\n",
    "\n",
    "constraints = [ \n",
    "                t >= x1 + u1 + y1 + z1,\n",
    "                t >= x2 + u2 + y2 + z2,\n",
    "                t >= x3 + u3 + y3 + z3,\n",
    "                t >= x4 + u4 + y4 + z4,\n",
    "                100 == 3*(x4 - u4) + 9*(y4 - z4),\n",
    "                100 == 1*(x1-u1) + 6*(y1-z1), \n",
    "                100 == 2*(x2-u2) + 8*(y2-z2), \n",
    "                100 == 1*(x3-u3) + 6*(y3-z3),\n",
    "                t >= (y1 + z1 + y1 + u1) + (y2 + z2 + y2 + u2) + (y3 + z3 + y3 + u3) + (y4+z4 + y4 + u4),\n",
    "                t >= 0,\n",
    "                x1 >= 0, u1 >= 0, y1 >= 0, z1 >= 0, \n",
    "                x2 >= 0, u2 >= 0, y2 >= 0, z2 >= 0,\n",
    "                x3 >= 0, u3 >= 0, y3 >= 0, z3 >= 0,\n",
    "                x4 >= 0, u4 >= 0, y4 >= 0, z4 >= 0\n",
    "               ]\n",
    "\n",
    "prob = cp.Problem(obj, constraints)\n",
    "result = prob.solve()\n",
    "print(\"person1, \", x1.value, u1.value, y1.value, z1.value) \n",
    "print(\"person2, \", x2.value, u2.value, y2.value, z2.value) \n",
    "print(\"person3, \", x3.value, u3.value, y3.value, z3.value) \n",
    "print(\"person4, \", x4.value, u4.value, y4.value, z4.value) \n",
    "print(\"time =\", t.value)\n"
   ]
  },
  {
   "cell_type": "code",
   "execution_count": 23,
   "metadata": {},
   "outputs": [
    {
     "ename": "IndexError",
     "evalue": "Too many indices for expression.",
     "output_type": "error",
     "traceback": [
      "\u001b[0;31m---------------------------------------------------------------------------\u001b[0m",
      "\u001b[0;31mIndexError\u001b[0m                                Traceback (most recent call last)",
      "Cell \u001b[0;32mIn[23], line 23\u001b[0m\n\u001b[1;32m     21\u001b[0m \u001b[38;5;66;03m# 1) Each person's total travel time <= T\u001b[39;00m\n\u001b[1;32m     22\u001b[0m \u001b[38;5;28;01mfor\u001b[39;00m i \u001b[38;5;129;01min\u001b[39;00m \u001b[38;5;28mrange\u001b[39m(n):\n\u001b[0;32m---> 23\u001b[0m     constraints\u001b[38;5;241m.\u001b[39mappend(\u001b[43mxWf\u001b[49m\u001b[43m[\u001b[49m\u001b[43mi\u001b[49m\u001b[43m]\u001b[49m \u001b[38;5;241m+\u001b[39m xWb[i] \u001b[38;5;241m+\u001b[39m xCf[i] \u001b[38;5;241m+\u001b[39m xCb[i] \u001b[38;5;241m<\u001b[39m\u001b[38;5;241m=\u001b[39m T)\n\u001b[1;32m     25\u001b[0m \u001b[38;5;66;03m# 2) Each person must travel net distance = D\u001b[39;00m\n\u001b[1;32m     26\u001b[0m \u001b[38;5;28;01mfor\u001b[39;00m i \u001b[38;5;129;01min\u001b[39;00m \u001b[38;5;28mrange\u001b[39m(n):\n",
      "File \u001b[0;32m~/Documents/Source/School/DiscOpt/venv/lib/python3.13/site-packages/cvxpy/expressions/expression.py:527\u001b[0m, in \u001b[0;36mExpression.__getitem__\u001b[0;34m(self, key)\u001b[0m\n\u001b[1;32m    525\u001b[0m     \u001b[38;5;28;01mreturn\u001b[39;00m cvxtypes\u001b[38;5;241m.\u001b[39mspecial_index()(\u001b[38;5;28mself\u001b[39m, key)\n\u001b[1;32m    526\u001b[0m \u001b[38;5;28;01melse\u001b[39;00m:\n\u001b[0;32m--> 527\u001b[0m     \u001b[38;5;28;01mreturn\u001b[39;00m \u001b[43mcvxtypes\u001b[49m\u001b[38;5;241;43m.\u001b[39;49m\u001b[43mindex\u001b[49m\u001b[43m(\u001b[49m\u001b[43m)\u001b[49m\u001b[43m(\u001b[49m\u001b[38;5;28;43mself\u001b[39;49m\u001b[43m,\u001b[49m\u001b[43m \u001b[49m\u001b[43mkey\u001b[49m\u001b[43m)\u001b[49m\n",
      "File \u001b[0;32m~/Documents/Source/School/DiscOpt/venv/lib/python3.13/site-packages/cvxpy/atoms/affine/index.py:62\u001b[0m, in \u001b[0;36mindex.__init__\u001b[0;34m(self, expr, key, orig_key)\u001b[0m\n\u001b[1;32m     60\u001b[0m \u001b[38;5;28;01mif\u001b[39;00m orig_key \u001b[38;5;129;01mis\u001b[39;00m \u001b[38;5;28;01mNone\u001b[39;00m:\n\u001b[1;32m     61\u001b[0m     \u001b[38;5;28mself\u001b[39m\u001b[38;5;241m.\u001b[39m_orig_key \u001b[38;5;241m=\u001b[39m key\n\u001b[0;32m---> 62\u001b[0m     \u001b[38;5;28mself\u001b[39m\u001b[38;5;241m.\u001b[39mkey \u001b[38;5;241m=\u001b[39m \u001b[43mku\u001b[49m\u001b[38;5;241;43m.\u001b[39;49m\u001b[43mvalidate_key\u001b[49m\u001b[43m(\u001b[49m\u001b[43mkey\u001b[49m\u001b[43m,\u001b[49m\u001b[43m \u001b[49m\u001b[43mexpr\u001b[49m\u001b[38;5;241;43m.\u001b[39;49m\u001b[43mshape\u001b[49m\u001b[43m)\u001b[49m\n\u001b[1;32m     63\u001b[0m \u001b[38;5;28;01melse\u001b[39;00m:\n\u001b[1;32m     64\u001b[0m     \u001b[38;5;28mself\u001b[39m\u001b[38;5;241m.\u001b[39m_orig_key \u001b[38;5;241m=\u001b[39m orig_key\n",
      "File \u001b[0;32m~/Documents/Source/School/DiscOpt/venv/lib/python3.13/site-packages/cvxpy/utilities/key_utils.py:52\u001b[0m, in \u001b[0;36mvalidate_key\u001b[0;34m(key, shape)\u001b[0m\n\u001b[1;32m     50\u001b[0m slices \u001b[38;5;241m=\u001b[39m \u001b[38;5;28mlen\u001b[39m(key) \u001b[38;5;241m-\u001b[39m none_count\n\u001b[1;32m     51\u001b[0m \u001b[38;5;28;01mif\u001b[39;00m slices \u001b[38;5;241m>\u001b[39m \u001b[38;5;28mlen\u001b[39m(shape):\n\u001b[0;32m---> 52\u001b[0m     \u001b[38;5;28;01mraise\u001b[39;00m \u001b[38;5;167;01mIndexError\u001b[39;00m(\u001b[38;5;124m\"\u001b[39m\u001b[38;5;124mToo many indices for expression.\u001b[39m\u001b[38;5;124m\"\u001b[39m)\n\u001b[1;32m     53\u001b[0m \u001b[38;5;28;01melif\u001b[39;00m slices \u001b[38;5;241m<\u001b[39m \u001b[38;5;28mlen\u001b[39m(shape):\n\u001b[1;32m     54\u001b[0m     \u001b[38;5;66;03m# Add : to the right.\u001b[39;00m\n\u001b[1;32m     55\u001b[0m     key \u001b[38;5;241m=\u001b[39m \u001b[38;5;28mtuple\u001b[39m(\u001b[38;5;28mlist\u001b[39m(key) \u001b[38;5;241m+\u001b[39m [\u001b[38;5;28mslice\u001b[39m(\u001b[38;5;28;01mNone\u001b[39;00m, \u001b[38;5;28;01mNone\u001b[39;00m, \u001b[38;5;28;01mNone\u001b[39;00m)]\u001b[38;5;241m*\u001b[39m(\u001b[38;5;28mlen\u001b[39m(shape) \u001b[38;5;241m-\u001b[39m slices))\n",
      "\u001b[0;31mIndexError\u001b[0m: Too many indices for expression."
     ]
    }
   ],
   "source": [
    "import cvxpy as cp\n",
    "\n",
    "# Problem parameters\n",
    "n = 3  # Number of people\n",
    "D = 10  # Distance to cover\n",
    "w = [1, 2, 2]  # Walking speeds\n",
    "c = [2, 5, 4]  # Cycling speeds\n",
    "\n",
    "# Decision variable for total time\n",
    "T = cp.Variable(nonneg=True)\n",
    "\n",
    "# Decision variables for each person\n",
    "xWf = cp.Variable(nonneg=True)  # Walking forward\n",
    "xWb = cp.Variable(nonneg=True)  # Walking backward\n",
    "xCf = cp.Variable(nonneg=True)  # Cycling forward\n",
    "xCb = cp.Variable(nonneg=True)  # Cycling backward\n",
    "\n",
    "# Constraints list\n",
    "constraints = []\n",
    "\n",
    "# 1) Each person's total travel time <= T\n",
    "for i in range(n):\n",
    "    constraints.append(xWf[i] + xWb[i] + xCf[i] + xCb[i] <= T)\n",
    "\n",
    "# 2) Each person must travel net distance = D\n",
    "for i in range(n):\n",
    "    constraints.append(w[i] * xWf[i] - w[i] * xWb[i] +\n",
    "                       c[i] * xCf[i] - c[i] * xCb[i] == D)\n",
    "\n",
    "# 3) The sum of all biking times cannot exceed T (single bike constraint)\n",
    "constraints.append(cp.sum(xCf) + cp.sum(xCb) <= T)\n",
    "\n",
    "# 4) The bike's net distance from start is between 0 and D\n",
    "# Using list comprehensions instead of generator expressions\n",
    "constraints.append(\n",
    "    0 <= cp.sum([c[i] * xCf[i] for i in range(n)]) - cp.sum([c[i] * xCb[i] for i in range(n)])\n",
    ")\n",
    "constraints.append(\n",
    "    cp.sum([c[i] * xCf[i] for i in range(n)]) - cp.sum([c[i] * xCb[i] for i in range(n)]) <= D\n",
    ")\n",
    "\n",
    "# Objective function: minimize total time T\n",
    "objective = cp.Minimize(T)\n",
    "\n",
    "# Solve the problem\n",
    "problem = cp.Problem(objective, constraints)\n",
    "problem.solve(solver=cp.ECOS, verbose=True)  # Use ECOS solver if GUROBI is not available\n",
    "\n",
    "# Output results\n",
    "print(\"Optimal total time T =\", T.value)\n",
    "for i in range(n):\n",
    "    print(f\"Person {i+1}:\")\n",
    "    print(\"  xWf =\", xWf[i].value,\n",
    "          \" xWb =\", xWb[i].value,\n",
    "          \" xCf =\", xCf[i].value,\n",
    "          \" xCb =\", xCb[i].value)\n",
    "\n",
    "# Verify if no one walks or cycles backward\n",
    "for i in range(n):\n",
    "    if xWb[i].value > 1e-6:\n",
    "        print(f\"Warning: Person {i+1} is walking backward (xWb={xWb[i].value})\")\n",
    "    if xCb[i].value > 1e-6:\n",
    "        print(f\"Warning: Person {i+1} is cycling backward (xCb={xCb[i].value})\")\n"
   ]
  },
  {
   "cell_type": "markdown",
   "metadata": {},
   "source": [
    "# Question 3.\n",
    "Use CVXPY to model and solve the other examples in the textbook (sections 2.1 -- 2.6)."
   ]
  },
  {
   "cell_type": "markdown",
   "metadata": {},
   "source": [
    "### 2.2"
   ]
  },
  {
   "cell_type": "code",
   "execution_count": 49,
   "metadata": {},
   "outputs": [
    {
     "name": "stdout",
     "output_type": "stream",
     "text": [
      "3.9999999961661765\n",
      "[ 2.          1.          1.          1.          1.          2.\n",
      "  2.19322917 -1.19322917  3.19322917  0.80677083]\n"
     ]
    }
   ],
   "source": [
    "X = cp.Variable(10)\n",
    "xoa, xob, xoc, xab, xad, xbe, xcd, xce, xdn, xen = X\n",
    "\n",
    "obj = cp.Maximize(xoa + xob + xoc)\n",
    "\n",
    "cons = [-3 <= xoa, xoa <= 3, \n",
    "        -1 <= xob, xob <= 1, \n",
    "        -1 <= xoc, xoc <= 1,\n",
    "        -1 <= xab, xab <= 1, \n",
    "        -1 <= xad, xad <= 1, \n",
    "        -3 <= xbe, xbe <= 3,\n",
    "        -4 <= xcd, xcd <= 4, \n",
    "        -4 <= xce, xce <= 4, \n",
    "        -4 <= xdn, xdn <= 4,\n",
    "        -1 <= xen, xen <= 1,\n",
    "        \n",
    "        xoa == xab + xad,\n",
    "        xob + xab == xbe,\n",
    "        xoc == xcd + xce,\n",
    "        xad + xcd == xdn,\n",
    "        xbe + xce == xen]\n",
    "\n",
    "problem = cp.Problem(obj, cons)\n",
    "result = problem.solve()\n",
    "\n",
    "print(result)\n",
    "print(X.value)"
   ]
  }
 ],
 "metadata": {
  "kernelspec": {
   "display_name": "Python 3 (ipykernel)",
   "language": "python",
   "name": "python3"
  },
  "language_info": {
   "codemirror_mode": {
    "name": "ipython",
    "version": 3
   },
   "file_extension": ".py",
   "mimetype": "text/x-python",
   "name": "python",
   "nbconvert_exporter": "python",
   "pygments_lexer": "ipython3",
   "version": "3.13.1"
  }
 },
 "nbformat": 4,
 "nbformat_minor": 4
}
