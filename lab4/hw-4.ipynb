{
 "cells": [
  {
   "cell_type": "markdown",
   "metadata": {
    "colab_type": "text",
    "id": "9BpU0PTotQH_"
   },
   "source": [
    "\n",
    "$\\qquad$ $\\qquad$$\\qquad$  **TDA206/DIT206 Discrete Optimization: Assignment 4 -- SDP and Maxcut** <br />\n",
    "$\\qquad$ $\\qquad$$\\qquad$                   **Grader: David Bosch** <br />\n",
    "$\\qquad$ $\\qquad$$\\qquad$                     **Due Date: 17/03/2025** <br />\n",
    "$\\qquad$ $\\qquad$$\\qquad$                   Josef Jakobson, 0208282079, josefjak@chalmers.se <br />\n",
    "$\\qquad$ $\\qquad$$\\qquad$                   Zoe Opdendries, 0208100065, zoe@zaloz.se <br />\n",
    "\n",
    "\n",
    "---\n",
    "\n",
    "\n",
    "General guidelines:\n",
    "*   All solutions to theoretical and pratical problems must be submitted in this ipynb notebook, and equations wherever required, should be formatted using LaTeX math-mode.\n",
    "*   All discussion regarding practical problems, along with solutions and plots should be specified in this notebook. All plots/results should be visible such that the notebook do not have to be run. But the code in the notebook should reproduce the plots/results if we choose to do so.\n",
    "*   Your name, personal number and email address should be specified above.\n",
    "*   All tables and other additional information should be included in this notebook.\n",
    "*   Before submitting, make sure that your code can run on another computer. That all plots can show on another computer including all your writing. It is good to check if your code can run here: https://colab.research.google.com.\n"
   ]
  },
  {
   "cell_type": "markdown",
   "metadata": {
    "colab_type": "text",
    "id": "b2Ga2PmEtQIA"
   },
   "source": [
    "# Question 1. [14 pts]\n",
    "\n",
    "Consider the triangle graph i.e, three vertices all connected pairwise (unweighted, so each edge has weight $1$).\n",
    "\n",
    "* a. Write the $+1/-1$ labelling corresponding to a maximum cut and give the value of the cut. [3 pts]\n",
    "* b. Write the SDP relaxation of the MAXCUT problem for this specific graph: write the program explicitly without using summation signs, with the variables corresponding to a $3 \\times 3$ matrix, $X_{1,1,}, X_{1,2}, \\cdots$. [2 pts]\n",
    "* c. Solve the SDP by manual calculation (not using a SDP solver). (HINT: Use symmetry and then argue about when the matrix with $1$ as diagonal elements and $\\alpha$ in other positions is psd.) [3 pts]\n",
    "* d. Produce the vector labelling corresponding to the optimal solution of the SDP in (c). (HINT: for what angle is $\\cos \\theta = -1/2$?) [3 pts]\n",
    "* e. What is the expected value of the cut produced by rounding using the vector labels and a random hyperlane? Give a short justification. [3 pts]\n"
   ]
  },
  {
   "cell_type": "markdown",
   "metadata": {},
   "source": [
    "## a)\n",
    "Let the triangle graph be defined as $G = (V, E)$ where $V = \\{1, 2, 3\\}$ and $E = \\{(1, 2), (2, 3), (3, 1)\\}$.\n",
    "\n",
    "Since the edges all have unit weights and the only way to partition the graph (except the trivial cut $S = V, \\bar S = \\emptyset$) is with one vertex in the first and the other two in the second, the graph yields 3 identically valued cuts:\n",
    "\n",
    "$S_1 = \\{1\\}, \\bar S_1 = \\{2, 3\\} \\\\\n",
    "S_2 = \\{2\\}, \\bar S_2 = \\{1, 3\\} \\\\\n",
    "S_3 = \\{3\\}, \\bar S_3 = \\{1, 2\\}$\n",
    "\n",
    "We can assign either +1 or -1 to any of these sets, since they are all valid solutions to the max cut problem. For example, we can have $z_1 = 1, z_2 = z_3 = -1$.\n",
    "\n",
    "The value of these cuts are 2, since there are exactly 2 unit-weighted edges between the sets in each case."
   ]
  },
  {
   "cell_type": "markdown",
   "metadata": {},
   "source": [
    "## b)\n",
    "\n",
    "\\begin{alignat*}{2}\n",
    "\\max \\ & \\frac{1-X_{12}}{2} + \\frac{1-X_{23}}{2} + \\frac{1-X_{31}}{2}\\\\\n",
    "\\\\\n",
    "\\textrm{s.t} \\quad\n",
    "&X_{11}= 1\\\\\n",
    "&X_{22}= 1\\\\\n",
    "&X_{33}= 1\\\\\n",
    "&X_{12} = X_{21}\\\\\n",
    "&X_{13} = X_{31}\\\\\n",
    "&X_{23} = X_{32}\\\\\n",
    "& X\\succeq0\n",
    "\\end{alignat*}\n",
    "\n",
    "$X = \n",
    "\\left(\\begin{matrix}\n",
    "    1 & X_{12} & X_{13}   \\\\\n",
    "    X_{21} & 1 & X_{23}  \\\\ % Farpoint\n",
    "    X_{31} & X_{32} & 1   \\\\ % New B\n",
    "\\end{matrix}\\right)$\n",
    "\n",
    "We also have that the matrix $X = X^T$"
   ]
  },
  {
   "cell_type": "markdown",
   "metadata": {},
   "source": [
    "## c)\n",
    "Since the graph is fully connected and the weights are unitary, the off-diagonal values in $X$ will be equal (let it be $\\alpha$). Thus X will be:\n",
    "$X = \n",
    "\\left(\\begin{matrix}\n",
    "    1 & \\alpha & \\alpha   \\\\\n",
    "    \\alpha & 1 & \\alpha  \\\\ \n",
    "    \\alpha & \\alpha & 1   \\\\ \n",
    "\\end{matrix}\\right)$\n",
    "\n",
    "Since X must be positive semi-definate, we also have that its eigenvalues must be non-negative:\n",
    "\n",
    "$\\det (\\lambda I - X) = \n",
    "\\left(\\begin{matrix}\n",
    "    1 - \\lambda & \\alpha & \\alpha   \\\\\n",
    "    \\alpha & 1 - \\lambda & \\alpha  \\\\ % Farpoint\n",
    "    \\alpha & \\alpha & 1 - \\lambda   \\\\ % New B\n",
    "\\end{matrix}\\right) = 0$\n",
    "\n",
    "From this we get $\\lambda_1 = \\lambda_2 = 1 - \\alpha, \\lambda_3 = 2\\alpha + 1$\n",
    "\n",
    "For the eigenvalues to be non-negative, we have the following valid range for $\\alpha: -\\frac{1}{2} \\leq \\alpha \\leq 1$ \n",
    "\n",
    "Since we want to maximize the objective function the solution is trivially to set $\\alpha = -\\frac{1}{2}$.\n",
    "\n",
    "Thus we get the final SDP:\n",
    "\n",
    "$X^* = \n",
    "\\left(\\begin{matrix}\n",
    "    1 & -\\frac{1}{2} & -\\frac{1}{2}   \\\\\n",
    "    -\\frac{1}{2} & 1 & -\\frac{1}{2}  \\\\ \n",
    "    -\\frac{1}{2} & -\\frac{1}{2} & 1   \\\\ \n",
    "\\end{matrix}\\right)$\n",
    "\n",
    "\n"
   ]
  },
  {
   "cell_type": "markdown",
   "metadata": {},
   "source": [
    "## d)\n",
    "From this SDP we can work backwards to the unit vector representation of the problem, i.e. $X_{ij} = u_i^T \\cdot u_j$ where $u_1, u_2, u_3 \\in S^2$. \n",
    "\n",
    "We have that $u_1^T \\cdot u_2 = u_2^T \\cdot u_3 = u_3^T \\cdot u_1 = -\\frac{1}{2}$ meaning that $ ||u_i||\\ ||u_j|| \\cos \\theta = -\\frac{1}{2}$. Since $||u_i|| = 1$ for $i = 1, 2, 3$ we have that $\\cos \\theta =  -\\frac{1}{2} \\Rightarrow \\theta = \\arccos ( -\\frac{1}{2}) = \\frac{3\\pi}{2}$\n",
    "\n",
    "This means that the unit vectors are exactly $\\frac{3 \\pi}{2}$ radians apart, and so we can construct the following vectors:\n",
    "\n",
    "$u_1 = \\left(\\begin{matrix}\n",
    "    1 \\\\\n",
    "    0 \\\\ \n",
    "\\end{matrix}\\right)$ \n",
    "\n",
    "\n",
    "$u_2 = \\left(\\begin{matrix}\n",
    "    -\\frac{1}{2} \\\\\n",
    "    \\frac{\\sqrt{3}}{2} \\\\ \n",
    "\\end{matrix}\\right)$\n",
    "\n",
    "$u_2 = \\left(\\begin{matrix}\n",
    "    -\\frac{1}{2} \\\\\n",
    "    -\\frac{\\sqrt{3}}{2}  \\\\ \n",
    "\\end{matrix}\\right)$\n"
   ]
  },
  {
   "cell_type": "markdown",
   "metadata": {},
   "source": [
    "## e)\n",
    "$E[cut] = 2$ because any hyperplane dividing the three nodes will always separate them into groups of two on one side and one on the other. This occurs because the nodes are evenly spaced at 120° intervals, making it impossible to position a hyperplane that places all three nodes on the same side."
   ]
  },
  {
   "cell_type": "markdown",
   "metadata": {
    "colab_type": "text",
    "id": "xFec7wzqtQIB"
   },
   "source": [
    "# Question 2. [6 pts]\n",
    "\n",
    "\n",
    "* a. Implement the SDP relaxation for MAXCUT in CVXPY (https://www.cvxpy.org), see (https://www.cvxpy.org/examples/basic/sdp.html). [2 pts]\n",
    "* b. Solve the SDP in the previous problem using (a). [1 pts]\n",
    "* c. Solve the SDP and give the MAXCUT value for the random graph 'graph.txt' in homework-2. [1 pts]\n",
    "* d. Solve the SDP and give the MAXCUT value for the planted partition graph 'G' given below. Give the approximation ratio. [2 pts]"
   ]
  },
  {
   "cell_type": "markdown",
   "metadata": {},
   "source": [
    "## a)"
   ]
  },
  {
   "cell_type": "code",
   "execution_count": 1,
   "metadata": {},
   "outputs": [],
   "source": [
    "import numpy as np\n",
    "import cvxpy as cp\n",
    "import math\n",
    "\n",
    "# Define SDP problem\n",
    "def define_sdp(adj_mat):\n",
    "    n = adj_mat.shape[0]\n",
    "    X = cp.Variable((n, n), symmetric = True)\n",
    "    ones = np.ones((n,n))\n",
    "\n",
    "    # Diagonals = 1 constraints\n",
    "    cons = [X >> 0]\n",
    "    for i in range(n):\n",
    "        cons.append(X[i][i] == 1)\n",
    "\n",
    "    # Calculate optimal SDP\n",
    "    obj = cp.Maximize(cp.trace(adj_mat @ (ones-X)/4))\n",
    "    problem = cp.Problem(obj, cons)\n",
    "\n",
    "    problem.solve()\n",
    "    print(\"The optimal value is\", problem.value)\n",
    "    return X, problem.value\n",
    "\n",
    "\n",
    "# Perform Cholesky Decomposition to extract unit vectors for each vertex\n",
    "def cholesky_decomp(X, n):\n",
    "    Xnew = X.value\n",
    "    eigs = np.linalg.eigh(Xnew)[0]\n",
    "    if np.min(eigs) < 0:\n",
    "        Xnew = Xnew + (1.00001 * abs(min(eigs)) * np.identity(n))\n",
    "    elif np.min(eigs) == 0:\n",
    "        Xnew = Xnew + 0.0000001 * np.identity(n)\n",
    "    U = np.linalg.cholesky(Xnew)\n",
    "    U = U[:, :-1]\n",
    "    return U\n",
    "\n",
    "# Rounding-step as described in book [GM]\n",
    "def rounding_step(U, n):\n",
    "    plane = np.random.rand(n-1,1)\n",
    "    solution = []\n",
    "    for u in U:\n",
    "        if np.dot(plane.T, u) >= 0:\n",
    "            solution.append(1)\n",
    "        else:\n",
    "            solution.append(-1)\n",
    "    return solution\n",
    "\n"
   ]
  },
  {
   "cell_type": "markdown",
   "metadata": {},
   "source": [
    "## b)"
   ]
  },
  {
   "cell_type": "code",
   "execution_count": null,
   "metadata": {},
   "outputs": [
    {
     "name": "stdout",
     "output_type": "stream",
     "text": [
      "The optimal value is 2.250000000204809\n",
      "A solution for vertex labels is:  [1, 1, -1]\n"
     ]
    }
   ],
   "source": [
    "adj_mat = np.array([[0, 1, 1], [1, 0, 1], [1, 1, 0]])\n",
    "n = adj_mat.shape[0]\n",
    "\n",
    "solved_sdp, value = define_sdp(adj_mat)\n",
    "U = cholesky_decomp(solved_sdp, n)\n",
    "solution = rounding_step(U, n)\n",
    "print(\"A solution for vertex labels is: \", solution)"
   ]
  },
  {
   "cell_type": "markdown",
   "metadata": {},
   "source": [
    "## c)"
   ]
  },
  {
   "cell_type": "code",
   "execution_count": 32,
   "metadata": {},
   "outputs": [
    {
     "name": "stdout",
     "output_type": "stream",
     "text": [
      "The optimal value is 368.2621644379207\n",
      "A solution for vertex labels is:  [1, 1, 1, 1, -1, 1, -1, 1, -1, -1, 1, 1, -1, 1, -1, -1, -1, -1, -1, 1, 1, -1, 1, 1, 1, 1, 1, -1, 1, -1, 1, 1, 1, -1, -1, 1, -1, -1, 1, -1, 1, 1, -1, -1, -1, -1, 1, -1, -1, -1, -1, -1, 1, -1, 1, -1, -1, -1, 1, -1, -1, -1, -1, 1, -1, 1, 1, 1, 1, -1, 1, -1, -1, 1, 1, 1, -1, 1, 1, -1, 1, 1, 1, 1, 1, -1, -1, -1, -1, -1, 1, 1, -1, -1, -1, -1, -1, 1, -1, 1]\n"
     ]
    }
   ],
   "source": [
    "\n",
    "adj_mat = np.loadtxt(\"graph.txt\", dtype=int)\n",
    "n = adj_mat.shape[0]\n",
    "\n",
    "solved_sdp, value = define_sdp(adj_mat)\n",
    "U = cholesky_decomp(solved_sdp, n)\n",
    "solution = rounding_step(U, n)\n",
    "print(\"A solution for vertex labels is: \", solution)\n"
   ]
  },
  {
   "cell_type": "markdown",
   "metadata": {},
   "source": [
    "## d)"
   ]
  },
  {
   "cell_type": "code",
   "execution_count": 3,
   "metadata": {
    "collapsed": true,
    "jupyter": {
     "outputs_hidden": true
    }
   },
   "outputs": [
    {
     "name": "stdout",
     "output_type": "stream",
     "text": [
      "The optimal value is 20999.99982305639\n",
      "A solution for vertex labels is:  [1, 1, -1, 1, -1, 1, 1, -1, 1, 1]\n"
     ]
    }
   ],
   "source": [
    "#'G' is given as an adjaceny matrix\n",
    "adj_mat = np.array([[   0.  , 2., 1000.  ,  2. , 1000.  ,  2.  ,  2. ,1000.  ,  2.  ,  2.],\n",
    " [ 2.  ,  0. ,1000.  ,  2., 1000.  ,  2.  ,  2. ,1000.  ,  2.  ,  2.],\n",
    " [1000. , 1000.  ,  0. ,1000. ,   2. ,1000., 1000. ,   2. ,1000., 1000.],\n",
    " [   2.  ,  2. ,1000.  ,  0. ,1000.  ,  2. ,   2., 1000.  ,  2.  ,  2.],\n",
    " [1000., 1000.  ,  2. ,1000. ,   0., 1000. ,1000.  ,  2. ,1000. ,1000.],\n",
    " [   2.  ,  2., 1000.  ,  2., 1000. ,   0. ,   2., 1000. ,   2. ,   2.],\n",
    " [   2.  ,  2. ,1000.  ,  2. ,1000. ,   2. ,   0., 1000. ,   2. ,   2.],\n",
    " [1000.  ,1000.,    2. ,1000.,    2., 1000., 1000.,    0., 1000., 1000.],\n",
    " [   2. ,   2. ,1000. ,   2. ,1000. ,   2. ,   2., 1000.,    0.,    2.],\n",
    " [   2. ,   2. ,1000. ,   2. ,1000. ,   2. ,   2., 1000.,    2.,    0.]])\n",
    "n = adj_mat.shape[0]\n",
    "\n",
    "\n",
    "solved_sdp, value = define_sdp(adj_mat)\n",
    "U = cholesky_decomp(solved_sdp, n)\n",
    "solution = rounding_step(U, n)\n",
    "print(\"A solution for vertex labels is: \", solution)\n",
    "\n",
    "# func_values = []\n",
    "# for i in range(n):\n",
    "#     for j in range(i+1, n):\n",
    "#         temp = solved_sdp.value[i][j]\n",
    "#         # Clamp temp to be within [-1, 1]\n",
    "#         temp = max(-1.0, min(1.0, temp))\n",
    "#         func_values.append(2*math.acos(temp) / (math.pi *(1-temp)))\n",
    "# \n",
    "\n",
    "# print(\"approx_ratio\", min(func_values))"
   ]
  },
  {
   "cell_type": "code",
   "execution_count": 5,
   "metadata": {},
   "outputs": [
    {
     "name": "stdout",
     "output_type": "stream",
     "text": [
      "True optimal value:  21000.0\n",
      "Approximation ratio:  0.9999999915741138\n"
     ]
    }
   ],
   "source": [
    "# Brute Force MaxCut algorithm to find true optimal solution\n",
    "def get_opt(adj_mat):\n",
    "    n = adj_mat.shape[0]\n",
    "    max_cut = 0\n",
    "    for i in range(2**n):\n",
    "        cut = 0\n",
    "        bin_i = bin(i)[2:].zfill(n)\n",
    "        for j in range(n):\n",
    "            for k in range(j+1, n):\n",
    "                if bin_i[j] != bin_i[k]:\n",
    "                    cut += adj_mat[j][k]\n",
    "        max_cut = max(max_cut, cut)\n",
    "    return max_cut\n",
    "\n",
    "opt = get_opt(adj_mat)\n",
    "print(\"True optimal value: \", opt)\n",
    "print(\"Approximation ratio: \", value/opt)"
   ]
  },
  {
   "cell_type": "markdown",
   "metadata": {},
   "source": [
    "### Steps for implementing SDP for Maxcut\n",
    "\n",
    "#### Formulate the Maxcut problem as SDP (recall lecture or refer to reference book [GM] in syllabus section)\n",
    "\n",
    "####  Once you obtain 'X' (the solution positive-semi-definite matrix from SDP, you may use Cholesky decomposition to get the solution unit-vectors, stacked as column vectors in 'U')\n",
    "\n",
    "```python\n",
    "Xnew = X.value\n",
    "eigs = np.linalg.eigh(Xnew)[0]\n",
    "if np.min(eigs) < 0:\n",
    "  Xnew = Xnew + (1.00001 * abs(min(eigs)) * np.identity(n_nodes))\n",
    "elif np.min(eigs) == 0:\n",
    "  Xnew = Xnew + 0.0000001 * np.identity(n_nodes)\n",
    "U = np.linalg.cholesky(Xnew).T\n",
    "```\n",
    "\n",
    "#### Round the unit-vectors to appropriate partition as explained in [GM] or class."
   ]
  }
 ],
 "metadata": {
  "colab": {
   "collapsed_sections": [],
   "name": "hw2020-2.ipynb",
   "provenance": []
  },
  "kernelspec": {
   "display_name": "Python 3",
   "language": "python",
   "name": "python3"
  },
  "language_info": {
   "codemirror_mode": {
    "name": "ipython",
    "version": 3
   },
   "file_extension": ".py",
   "mimetype": "text/x-python",
   "name": "python",
   "nbconvert_exporter": "python",
   "pygments_lexer": "ipython3",
   "version": "3.11.2"
  }
 },
 "nbformat": 4,
 "nbformat_minor": 4
}
